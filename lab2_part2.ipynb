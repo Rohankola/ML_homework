{
  "cells": [
    {
      "cell_type": "markdown",
      "metadata": {
        "id": "view-in-github",
        "colab_type": "text"
      },
      "source": [
        "<a href=\"https://colab.research.google.com/github/Rohankola/ML_homework/blob/main/lab2_part2.ipynb\" target=\"_parent\"><img src=\"https://colab.research.google.com/assets/colab-badge.svg\" alt=\"Open In Colab\"/></a>"
      ]
    },
    {
      "cell_type": "markdown",
      "metadata": {
        "id": "NFmOh482SyEF"
      },
      "source": [
        "## Lab 2\n",
        "### Part 2: Dealing with overfitting"
      ]
    },
    {
      "cell_type": "markdown",
      "metadata": {
        "id": "AjzAuO3oSvsI"
      },
      "source": [
        "Today we work with [Fashion-MNIST dataset](https://github.com/zalandoresearch/fashion-mnist) (*hint: it is available in `torchvision`*).\n",
        "\n",
        "Your goal for today:\n",
        "1. Train a FC (fully-connected) network that achieves >= 0.885 test accuracy.\n",
        "2. Cause considerable overfitting by modifying the network (e.g. increasing the number of network parameters and/or layers) and demonstrate in in the appropriate way (e.g. plot loss and accurasy on train and validation set w.r.t. network complexity).\n",
        "3. Try to deal with overfitting (at least partially) by using regularization techniques (Dropout/Batchnorm/...) and demonstrate the results.\n",
        "\n",
        "__Please, write a small report describing your ideas, tries and achieved results in the end of this file.__\n",
        "\n",
        "*Note*: Tasks 2 and 3 are interrelated, in task 3 your goal is to make the network from task 2 less prone to overfitting. Task 1 is independent from 2 and 3.\n",
        "\n",
        "*Note 2*: We recomment to use Google Colab or other machine with GPU acceleration."
      ]
    },
    {
      "cell_type": "code",
      "execution_count": 1,
      "metadata": {
        "id": "_KBld6VOSwhW"
      },
      "outputs": [],
      "source": [
        "import torch\n",
        "import torch.nn as nn\n",
        "import torchvision\n",
        "import torchvision.transforms as transforms\n",
        "import torchsummary\n",
        "from IPython.display import clear_output\n",
        "from matplotlib import pyplot as plt\n",
        "from matplotlib.pyplot import figure\n",
        "import numpy as np\n",
        "import os\n",
        "\n",
        "device = 'cuda:0' if torch.cuda.is_available() else 'cpu'"
      ]
    },
    {
      "cell_type": "code",
      "execution_count": 2,
      "metadata": {
        "colab": {
          "base_uri": "https://localhost:8080/"
        },
        "id": "EdLOG0XqS_g5",
        "outputId": "dc945bf6-3257-4750-96b1-53d3e7e30efa"
      },
      "outputs": [
        {
          "output_type": "stream",
          "name": "stdout",
          "text": [
            "Directory fmnist is created!\n"
          ]
        }
      ],
      "source": [
        "# Technical function\n",
        "def mkdir(path):\n",
        "    if not os.path.exists(root_path):\n",
        "        os.mkdir(root_path)\n",
        "        print('Directory', path, 'is created!')\n",
        "    else:\n",
        "        print('Directory', path, 'already exists!')\n",
        "        \n",
        "root_path = 'fmnist'\n",
        "mkdir(root_path)"
      ]
    },
    {
      "cell_type": "code",
      "execution_count": 3,
      "metadata": {
        "id": "qt6LE7XaTDT9",
        "colab": {
          "base_uri": "https://localhost:8080/",
          "height": 437,
          "referenced_widgets": [
            "bcdadb59cdd0475482a294e6a9a5fe3e",
            "41b84ce1052942018ac1bd3612c70bb3",
            "ce438862441049e288a94cc4d847228e",
            "daac8f2e5b4f4594b078429747f5a37b",
            "5f0d5dcd426340fca5687c040905c3d3",
            "e2cd259521904c0bb88f1dc4b47c6d41",
            "4ab6c178517a425280523f4813dbb474",
            "e0cc6eb915804d4491638093832134c1",
            "deafe492e3a14ab4861f5167bfcf7bed",
            "0611c2dfbe834f4eab696ce1306678f7",
            "53cc2cb646414c5082af4d718a10e9a8",
            "b1f5883def6740a7a63ffee27965bdf5",
            "054f7b76b4ce431da26eb82b176d9994",
            "89bcc1f8e85a490899d2fd50614b593e",
            "d25b3c4027dd4edd8f9ac2ff419c1fd0",
            "bdea8cd64259401c80e11402099447e5",
            "ffe4d705ca1c4fee93b6669e00abd820",
            "03f2ee20b5d24aed85c0b36e99858095",
            "860c8d4917504155a3eaeb2a607f66ca",
            "02c0651054554e4fa3fc8a0f90de0713",
            "f08aa247b6434917871de8a692b33483",
            "46b121d1438d43b9b68eb8fa44d57d79",
            "9cd55263f49c4070a297b19f6124eb2f",
            "6a5e670d1aae411492f93fec2316b35e",
            "e01d6cae75a44ef9b28483bc0f0705c2",
            "cacb555cc7164bb69e901cb1d85a72fa",
            "8c15757babc24081b873952170e4738f",
            "5501400192fa40de876b802d1f111b3d",
            "c84deef0f53e451a862c2724fe31e4c2",
            "2712a94021354bef9ad8ce96465ffcee",
            "cc5a4e6cc76f48e9989a0cd2ecfe65d3",
            "caae082eeb9844c9bce5cfcf0a852b9c",
            "274191754911488c9996b9f3ee7f2646",
            "a37f972b2a0a46df9dd78b9728ba600c",
            "d5a3ec20d7584649b527a41b34bb83b3",
            "17bc30e2275643fe9a8523264b9be231",
            "50c70e65d0614da1a7412ec41a9e2e84",
            "67f169aab1ed453ab704a1755a08a798",
            "6b8329e4cf564e3eaf0d240acd3e75c8",
            "309472800b20418db61d5116028b908c",
            "5c5003678d744686a242506c20e1198c",
            "725982be5a5e495daa63def7f131025a",
            "4034d55717f24f6d945df32e41a3a1e8",
            "3508e473e683431fba1873e7d16dee9c"
          ]
        },
        "outputId": "33abd2c7-9146-440c-913e-59c3b31e7b0f"
      },
      "outputs": [
        {
          "output_type": "stream",
          "name": "stdout",
          "text": [
            "Downloading http://fashion-mnist.s3-website.eu-central-1.amazonaws.com/train-images-idx3-ubyte.gz\n",
            "Downloading http://fashion-mnist.s3-website.eu-central-1.amazonaws.com/train-images-idx3-ubyte.gz to fmnist/FashionMNIST/raw/train-images-idx3-ubyte.gz\n"
          ]
        },
        {
          "output_type": "display_data",
          "data": {
            "text/plain": [
              "  0%|          | 0/26421880 [00:00<?, ?it/s]"
            ],
            "application/vnd.jupyter.widget-view+json": {
              "version_major": 2,
              "version_minor": 0,
              "model_id": "bcdadb59cdd0475482a294e6a9a5fe3e"
            }
          },
          "metadata": {}
        },
        {
          "output_type": "stream",
          "name": "stdout",
          "text": [
            "Extracting fmnist/FashionMNIST/raw/train-images-idx3-ubyte.gz to fmnist/FashionMNIST/raw\n",
            "\n",
            "Downloading http://fashion-mnist.s3-website.eu-central-1.amazonaws.com/train-labels-idx1-ubyte.gz\n",
            "Downloading http://fashion-mnist.s3-website.eu-central-1.amazonaws.com/train-labels-idx1-ubyte.gz to fmnist/FashionMNIST/raw/train-labels-idx1-ubyte.gz\n"
          ]
        },
        {
          "output_type": "display_data",
          "data": {
            "text/plain": [
              "  0%|          | 0/29515 [00:00<?, ?it/s]"
            ],
            "application/vnd.jupyter.widget-view+json": {
              "version_major": 2,
              "version_minor": 0,
              "model_id": "b1f5883def6740a7a63ffee27965bdf5"
            }
          },
          "metadata": {}
        },
        {
          "output_type": "stream",
          "name": "stdout",
          "text": [
            "Extracting fmnist/FashionMNIST/raw/train-labels-idx1-ubyte.gz to fmnist/FashionMNIST/raw\n",
            "\n",
            "Downloading http://fashion-mnist.s3-website.eu-central-1.amazonaws.com/t10k-images-idx3-ubyte.gz\n",
            "Downloading http://fashion-mnist.s3-website.eu-central-1.amazonaws.com/t10k-images-idx3-ubyte.gz to fmnist/FashionMNIST/raw/t10k-images-idx3-ubyte.gz\n"
          ]
        },
        {
          "output_type": "display_data",
          "data": {
            "text/plain": [
              "  0%|          | 0/4422102 [00:00<?, ?it/s]"
            ],
            "application/vnd.jupyter.widget-view+json": {
              "version_major": 2,
              "version_minor": 0,
              "model_id": "9cd55263f49c4070a297b19f6124eb2f"
            }
          },
          "metadata": {}
        },
        {
          "output_type": "stream",
          "name": "stdout",
          "text": [
            "Extracting fmnist/FashionMNIST/raw/t10k-images-idx3-ubyte.gz to fmnist/FashionMNIST/raw\n",
            "\n",
            "Downloading http://fashion-mnist.s3-website.eu-central-1.amazonaws.com/t10k-labels-idx1-ubyte.gz\n",
            "Downloading http://fashion-mnist.s3-website.eu-central-1.amazonaws.com/t10k-labels-idx1-ubyte.gz to fmnist/FashionMNIST/raw/t10k-labels-idx1-ubyte.gz\n"
          ]
        },
        {
          "output_type": "display_data",
          "data": {
            "text/plain": [
              "  0%|          | 0/5148 [00:00<?, ?it/s]"
            ],
            "application/vnd.jupyter.widget-view+json": {
              "version_major": 2,
              "version_minor": 0,
              "model_id": "a37f972b2a0a46df9dd78b9728ba600c"
            }
          },
          "metadata": {}
        },
        {
          "output_type": "stream",
          "name": "stdout",
          "text": [
            "Extracting fmnist/FashionMNIST/raw/t10k-labels-idx1-ubyte.gz to fmnist/FashionMNIST/raw\n",
            "\n"
          ]
        }
      ],
      "source": [
        "download = True\n",
        "train_transform = transforms.ToTensor()\n",
        "test_transform = transforms.ToTensor()\n",
        "transforms.Compose((transforms.ToTensor()))\n",
        "\n",
        "\n",
        "fmnist_dataset_train = torchvision.datasets.FashionMNIST(root_path, train=True, transform=train_transform, target_transform=None, download=download)\n",
        "fmnist_dataset_test = torchvision.datasets.FashionMNIST(root_path, train=False, transform=test_transform, target_transform=None, download=download)"
      ]
    },
    {
      "cell_type": "code",
      "execution_count": 4,
      "metadata": {
        "id": "71YP0SPwTIxD"
      },
      "outputs": [],
      "source": [
        "train_loader = torch.utils.data.DataLoader(fmnist_dataset_train, batch_size=128, shuffle=True, num_workers=2)\n",
        "test_loader = torch.utils.data.DataLoader(fmnist_dataset_test, batch_size=256, shuffle=False, num_workers=2)"
      ]
    },
    {
      "cell_type": "code",
      "execution_count": 5,
      "metadata": {
        "colab": {
          "base_uri": "https://localhost:8080/"
        },
        "id": "eSoL2eIwntSb",
        "outputId": "824ffd54-e7dc-40c7-d28b-f1b6469e67b1"
      },
      "outputs": [
        {
          "output_type": "execute_result",
          "data": {
            "text/plain": [
              "10000"
            ]
          },
          "metadata": {},
          "execution_count": 5
        }
      ],
      "source": [
        "len(fmnist_dataset_test)"
      ]
    },
    {
      "cell_type": "code",
      "execution_count": 6,
      "metadata": {
        "colab": {
          "base_uri": "https://localhost:8080/"
        },
        "id": "Lg9X5e2FntSe",
        "outputId": "93e27d05-0de6-4a2d-e0be-9dfd62273923"
      },
      "outputs": [
        {
          "output_type": "stream",
          "name": "stdout",
          "text": [
            "torch.Size([128, 1, 28, 28])\n",
            "torch.Size([128])\n",
            "128\n"
          ]
        }
      ],
      "source": [
        "for img, label in train_loader:\n",
        "    print(img.shape)\n",
        "    #print(img)\n",
        "    print(label.shape)\n",
        "    print(label.size(0))\n",
        "    break"
      ]
    },
    {
      "cell_type": "markdown",
      "metadata": {
        "id": "b6OOOffHTfX5"
      },
      "source": [
        "### Task 1\n",
        "Train a network that achieves $\\geq 0.885$ test accuracy. It's fine to use only Linear (`nn.Linear`) layers and activations/dropout/batchnorm. Convolutional layers might be a great use, but we will meet them a bit later."
      ]
    },
    {
      "cell_type": "code",
      "execution_count": 7,
      "metadata": {
        "id": "ftpkTjxlTcFx"
      },
      "outputs": [],
      "source": [
        "class TinyNeuralNetwork(nn.Module):\n",
        "    def __init__(self, input_shape=28*28, num_classes=10, input_channels=1):\n",
        "        super(self.__class__, self).__init__()\n",
        "        self.model = nn.Sequential(\n",
        "            nn.Flatten(), # This layer converts image into a vector to use Linear layers afterwards\n",
        "            nn.Linear(input_shape, 256),\n",
        "            nn.Tanh(),\n",
        "            nn.Linear(256, 512),\n",
        "            nn.Tanh(),\n",
        "            nn.Linear(512, num_classes),\n",
        "        )\n",
        "        \n",
        "    def forward(self, inp):       \n",
        "        out = self.model(inp)\n",
        "        return out"
      ]
    },
    {
      "cell_type": "code",
      "execution_count": 8,
      "metadata": {
        "colab": {
          "base_uri": "https://localhost:8080/"
        },
        "id": "z7vP_w4-N-SQ",
        "outputId": "0688c1b4-d50a-49c1-a696-7fe7608b2692"
      },
      "outputs": [
        {
          "output_type": "stream",
          "name": "stdout",
          "text": [
            "----------------------------------------------------------------\n",
            "        Layer (type)               Output Shape         Param #\n",
            "================================================================\n",
            "           Flatten-1                  [-1, 784]               0\n",
            "            Linear-2                  [-1, 256]         200,960\n",
            "              Tanh-3                  [-1, 256]               0\n",
            "            Linear-4                  [-1, 512]         131,584\n",
            "              Tanh-5                  [-1, 512]               0\n",
            "            Linear-6                   [-1, 10]           5,130\n",
            "================================================================\n",
            "Total params: 337,674\n",
            "Trainable params: 337,674\n",
            "Non-trainable params: 0\n",
            "----------------------------------------------------------------\n",
            "Input size (MB): 0.00\n",
            "Forward/backward pass size (MB): 0.02\n",
            "Params size (MB): 1.29\n",
            "Estimated Total Size (MB): 1.31\n",
            "----------------------------------------------------------------\n"
          ]
        }
      ],
      "source": [
        "torchsummary.summary(TinyNeuralNetwork().to(device), (28*28,))"
      ]
    },
    {
      "cell_type": "markdown",
      "metadata": {
        "id": "544PGKEnjPr5"
      },
      "source": [
        "Your experiments come here:"
      ]
    },
    {
      "cell_type": "code",
      "execution_count": 9,
      "metadata": {
        "id": "s834D2dqvJw1"
      },
      "outputs": [],
      "source": [
        "def train_epoch(model, device, train_loader, test_loader, criterion, optimizer): \n",
        "    torch.manual_seed(5)\n",
        "\n",
        "    model.train()\n",
        "\n",
        "    current_test_accuracy = 0\n",
        "    running_loss = 0\n",
        "    pred = 0\n",
        "    correct = 0\n",
        "    for data, label in train_loader:\n",
        "        data, label = data.to(device), label.to(device)\n",
        "        optimizer.zero_grad()\n",
        "        output = model(data)\n",
        "        loss = criterion(output, label)\n",
        "        loss.backward()\n",
        "        optimizer.step()\n",
        "        running_loss += loss.item()\n",
        "        pred = output.argmax(dim=1, keepdim=True)\n",
        "        correct += pred.eq(label.view_as(pred)).sum().item()\n",
        "    \n",
        "    current_loss = running_loss / len(train_loader.dataset)\n",
        "    print(f'train loss = {current_loss}')\n",
        "    current_train_accuracy = correct / len(train_loader.dataset)\n",
        "    print(f'train accuracy = {current_train_accuracy}')\n",
        "\n",
        "    model.eval()\n",
        "\n",
        "    current_test_loss = 0\n",
        "    current_test_accuracy = 0 \n",
        "\n",
        "    test_loss = 0\n",
        "    correct = 0   \n",
        "    running_loss = 0\n",
        "    with torch.no_grad():\n",
        "        for data, label in test_loader:\n",
        "            data, label = data.to(device), label.to(device)\n",
        "            output = model(data)\n",
        "            test_loss = criterion(output, label)\n",
        "            running_loss += test_loss.item()\n",
        "            pred = output.argmax(dim=1, keepdim=True)\n",
        "            correct += pred.eq(label.view_as(pred)).sum().item()\n",
        "\n",
        "    current_test_loss = running_loss / len(test_loader.dataset) \n",
        "    print(f'test loss = {current_test_loss}')\n",
        "    current_test_accuracy = correct / len(test_loader.dataset)\n",
        "    print(f'test accuracy = {current_test_accuracy}')\n",
        "\n",
        "    return current_loss, current_train_accuracy, current_test_loss, current_test_accuracy\n",
        "\n"
      ]
    },
    {
      "cell_type": "code",
      "execution_count": 10,
      "metadata": {
        "id": "P9wcU8iE7an6"
      },
      "outputs": [],
      "source": [
        "def train_model(epochs, model, device, train_loader, test_loader, loss_func, opt):\n",
        "    test_loss_history = list()\n",
        "    train_loss_history = list()\n",
        "    test_ac_history = list()\n",
        "    train_ac_history = list()\n",
        "\n",
        "    train_loss = 0\n",
        "    test_loss = 0\n",
        "    test_ac = 0\n",
        "    train_ac = 0\n",
        "    for epoch in range(1, epochs+1):\n",
        "        \n",
        "        #print(f'epoch {epoch}')\n",
        "        train_loss, train_ac, test_loss, test_ac = train_epoch(model, device, train_loader, test_loader, loss_func, opt)\n",
        "        \n",
        "\n",
        "        train_loss_history.append(train_loss)\n",
        "        test_loss_history.append(test_loss)\n",
        "        test_ac_history.append(test_ac)\n",
        "        train_ac_history.append(train_ac)\n",
        "\n",
        "    return train_loss_history, test_loss_history, train_ac_history, test_ac_history"
      ]
    },
    {
      "cell_type": "code",
      "execution_count": 11,
      "metadata": {
        "id": "wS6N8tsY6wXS"
      },
      "outputs": [],
      "source": [
        "model = TinyNeuralNetwork().to(device)\n",
        "opt = torch.optim.Adam(model.parameters(), lr=0.0003)\n",
        "loss_func = nn.CrossEntropyLoss()\n",
        "epochs = 30"
      ]
    },
    {
      "cell_type": "code",
      "execution_count": 12,
      "metadata": {
        "id": "lH5Sqbqv8KSr",
        "colab": {
          "base_uri": "https://localhost:8080/"
        },
        "outputId": "ac110e91-479f-4d7a-db9b-c75ebc37d2af"
      },
      "outputs": [
        {
          "output_type": "stream",
          "name": "stdout",
          "text": [
            "train loss = 0.004719251390298208\n",
            "train accuracy = 0.7889666666666667\n",
            "test loss = 0.0019346679136157036\n",
            "test accuracy = 0.8226\n",
            "train loss = 0.0032267372615635394\n",
            "train accuracy = 0.8514333333333334\n",
            "test loss = 0.0017770216777920722\n",
            "test accuracy = 0.8373\n",
            "train loss = 0.0029673258910576502\n",
            "train accuracy = 0.8634833333333334\n",
            "test loss = 0.001688254602253437\n",
            "test accuracy = 0.8443\n",
            "train loss = 0.002800897358109554\n",
            "train accuracy = 0.8705833333333334\n",
            "test loss = 0.0016245910361409187\n",
            "test accuracy = 0.8498\n",
            "train loss = 0.002672674437860648\n",
            "train accuracy = 0.8761\n",
            "test loss = 0.0015758523777127265\n",
            "test accuracy = 0.8541\n",
            "train loss = 0.0025661857922871906\n",
            "train accuracy = 0.8808333333333334\n",
            "test loss = 0.0015374183639883996\n",
            "test accuracy = 0.8587\n",
            "train loss = 0.002474072730789582\n",
            "train accuracy = 0.88445\n",
            "test loss = 0.0015049109637737274\n",
            "test accuracy = 0.8617\n",
            "train loss = 0.0023921610857049625\n",
            "train accuracy = 0.8882166666666667\n",
            "test loss = 0.0014752273187041284\n",
            "test accuracy = 0.8632\n",
            "train loss = 0.0023177322824796042\n",
            "train accuracy = 0.8913666666666666\n",
            "test loss = 0.001447158145904541\n",
            "test accuracy = 0.8663\n",
            "train loss = 0.0022490239262580873\n",
            "train accuracy = 0.8944\n",
            "test loss = 0.0014209578290581702\n",
            "test accuracy = 0.8687\n",
            "train loss = 0.002184970781952143\n",
            "train accuracy = 0.8970333333333333\n",
            "test loss = 0.0013974249348044396\n",
            "test accuracy = 0.8712\n",
            "train loss = 0.0021248938272396723\n",
            "train accuracy = 0.89985\n",
            "test loss = 0.001377261632680893\n",
            "test accuracy = 0.873\n",
            "train loss = 0.0020682082340121267\n",
            "train accuracy = 0.9024\n",
            "test loss = 0.0013607000187039375\n",
            "test accuracy = 0.8746\n",
            "train loss = 0.002014321654786666\n",
            "train accuracy = 0.90475\n",
            "test loss = 0.0013473547324538231\n",
            "test accuracy = 0.876\n",
            "train loss = 0.001962720377246539\n",
            "train accuracy = 0.9069333333333334\n",
            "test loss = 0.0013365747570991517\n",
            "test accuracy = 0.8775\n",
            "train loss = 0.0019131104985872904\n",
            "train accuracy = 0.9092166666666667\n",
            "test loss = 0.0013279353737831116\n",
            "test accuracy = 0.8785\n",
            "train loss = 0.0018654024042189122\n",
            "train accuracy = 0.9111\n",
            "test loss = 0.0013212852716445922\n",
            "test accuracy = 0.879\n",
            "train loss = 0.0018194715809077024\n",
            "train accuracy = 0.9130166666666667\n",
            "test loss = 0.00131647792160511\n",
            "test accuracy = 0.8793\n",
            "train loss = 0.0017751333903521299\n",
            "train accuracy = 0.9156\n",
            "test loss = 0.0013132389366626738\n",
            "test accuracy = 0.8808\n",
            "train loss = 0.0017322130079070728\n",
            "train accuracy = 0.9179666666666667\n",
            "test loss = 0.001311281219124794\n",
            "test accuracy = 0.8819\n",
            "train loss = 0.0016905720291038354\n",
            "train accuracy = 0.9199166666666667\n",
            "test loss = 0.0013103925511240959\n",
            "test accuracy = 0.8828\n",
            "train loss = 0.0016501158473392328\n",
            "train accuracy = 0.9219\n",
            "test loss = 0.0013104144141077995\n",
            "test accuracy = 0.8835\n",
            "train loss = 0.001610780876626571\n",
            "train accuracy = 0.9241\n",
            "test loss = 0.0013111940369009971\n",
            "test accuracy = 0.8842\n",
            "train loss = 0.0015725416443000237\n",
            "train accuracy = 0.9259333333333334\n",
            "test loss = 0.0013125609606504441\n",
            "test accuracy = 0.8847\n",
            "train loss = 0.0015353628528614839\n",
            "train accuracy = 0.92785\n",
            "test loss = 0.0013144251018762589\n",
            "test accuracy = 0.8849\n",
            "train loss = 0.0014990875475108622\n",
            "train accuracy = 0.9296666666666666\n",
            "test loss = 0.0013169997215270997\n",
            "test accuracy = 0.8857\n",
            "train loss = 0.0014634901975591978\n",
            "train accuracy = 0.93095\n",
            "test loss = 0.0013207959294319154\n",
            "test accuracy = 0.8858\n",
            "train loss = 0.001428430910781026\n",
            "train accuracy = 0.9326\n",
            "test loss = 0.001326252543926239\n",
            "test accuracy = 0.8864\n",
            "train loss = 0.0013939169780040781\n",
            "train accuracy = 0.9347333333333333\n",
            "test loss = 0.001333466325700283\n",
            "test accuracy = 0.8874\n",
            "train loss = 0.0013600640432288248\n",
            "train accuracy = 0.9364166666666667\n",
            "test loss = 0.0013422582671046258\n",
            "test accuracy = 0.8877\n",
            "final train loss = 0.0013600640432288248\n",
            "final train accuracy = 0.9364166666666667\n",
            "final test loss = 0.0013422582671046258\n",
            "final test accuracy = 0.8877\n"
          ]
        }
      ],
      "source": [
        "train_loss_history, test_loss_history, train_ac_history, test_ac_history = train_model(epochs, model, device, train_loader, test_loader, loss_func, opt)\n",
        "\n",
        "print(f'final train loss = {train_loss_history[-1]}')\n",
        "print(f'final train accuracy = {train_ac_history[-1]}')\n",
        "print(f'final test loss = {test_loss_history[-1]}')\n",
        "print(f'final test accuracy = {test_ac_history[-1]}')"
      ]
    },
    {
      "cell_type": "code",
      "source": [
        "grid = np.arange(1, epochs + 1)\n",
        "\n",
        "plt.figure(figsize=(18,7))\n",
        "plt.plot(grid, train_ac_history, label='train accuracy')\n",
        "plt.plot(grid, test_ac_history, label='test accuracy')\n",
        "plt.xlabel(\"№ epoch\")\n",
        "plt.legend()\n",
        "plt.title(\"accuracy\")\n",
        "plt.show()\n",
        "\n",
        "plt.figure(figsize=(18,7))\n",
        "plt.plot(grid, train_loss_history, label='train loss')\n",
        "plt.plot(grid, test_loss_history, label='test loss')\n",
        "plt.xlabel(\"№ epoch\")\n",
        "plt.legend()\n",
        "plt.title(\"loss\")\n",
        "plt.show()"
      ],
      "metadata": {
        "colab": {
          "base_uri": "https://localhost:8080/",
          "height": 899
        },
        "id": "kbEoOMz0ofbV",
        "outputId": "38c73920-0a6e-4bb4-db05-c7cc692e0c32"
      },
      "execution_count": 13,
      "outputs": [
        {
          "output_type": "display_data",
          "data": {
            "text/plain": [
              "<Figure size 1296x504 with 1 Axes>"
            ],
            "image/png": "[encoded data removed]"
          },
          "metadata": {
            "needs_background": "light"
          }
        },
        {
          "output_type": "display_data",
          "data": {
            "text/plain": [
              "<Figure size 1296x504 with 1 Axes>"
            ],
            "image/png": "[encoded data removed]"
          },
          "metadata": {
            "needs_background": "light"
          }
        }
      ]
    },
    {
      "cell_type": "markdown",
      "source": [
        "##### accuracy"
      ],
      "metadata": {
        "id": "VEysGBeOIa6x"
      }
    },
    {
      "cell_type": "code",
      "execution_count": 14,
      "metadata": {
        "id": "iwBO0jNIoFa7",
        "colab": {
          "base_uri": "https://localhost:8080/"
        },
        "outputId": "e4352f54-c9ee-4adc-d11d-2b835b664aa4"
      },
      "outputs": [
        {
          "output_type": "stream",
          "name": "stdout",
          "text": [
            "Test accuracy = 0.8877\n"
          ]
        }
      ],
      "source": [
        "print(f'Test accuracy = {test_ac_history[-1]}')"
      ]
    },
    {
      "cell_type": "markdown",
      "metadata": {
        "id": "L7ISqkjmCPB1"
      },
      "source": [
        "### Task 2: Overfit it.\n",
        "Build a network that will overfit to this dataset. Demonstrate the overfitting in the appropriate way (e.g. plot loss and accurasy on train and test set w.r.t. network complexity).\n",
        "\n",
        "*Note:* you also might decrease the size of `train` dataset to enforce the overfitting and speed up the computations."
      ]
    },
    {
      "cell_type": "code",
      "execution_count": 15,
      "metadata": {
        "id": "H12uAWiGBwJx"
      },
      "outputs": [],
      "source": [
        "class OverfittingNeuralNetwork(nn.Module):\n",
        "    def __init__(self, input_shape=28*28, num_classes=10, input_channels=1):\n",
        "        super(self.__class__, self).__init__()\n",
        "        self.model = nn.Sequential(\n",
        "            nn.Flatten(), # This layer converts image into a vector to use Linear layers afterwards\n",
        "            # Your network structure comes here\n",
        "            nn.Linear(input_shape, 28*28*2),\n",
        "            nn.ReLU(),\n",
        "            nn.Linear(28*28*2, 512),\n",
        "            nn.Tanh(),\n",
        "            nn.Linear(512, 256),\n",
        "            nn.ReLU(),\n",
        "            nn.Linear(256, 100),\n",
        "            nn.ReLU(),\n",
        "            nn.Linear(100, num_classes)\n",
        "        )\n",
        "        \n",
        "    def forward(self, inp):       \n",
        "        out = self.model(inp)\n",
        "        return out"
      ]
    },
    {
      "cell_type": "code",
      "execution_count": 16,
      "metadata": {
        "id": "JgXAKCpvCwqH",
        "colab": {
          "base_uri": "https://localhost:8080/"
        },
        "outputId": "703f8f0b-02a8-4df0-a4a4-4f22957c0d3b"
      },
      "outputs": [
        {
          "output_type": "stream",
          "name": "stdout",
          "text": [
            "----------------------------------------------------------------\n",
            "        Layer (type)               Output Shape         Param #\n",
            "================================================================\n",
            "           Flatten-1                  [-1, 784]               0\n",
            "            Linear-2                 [-1, 1568]       1,230,880\n",
            "              ReLU-3                 [-1, 1568]               0\n",
            "            Linear-4                  [-1, 512]         803,328\n",
            "              Tanh-5                  [-1, 512]               0\n",
            "            Linear-6                  [-1, 256]         131,328\n",
            "              ReLU-7                  [-1, 256]               0\n",
            "            Linear-8                  [-1, 100]          25,700\n",
            "              ReLU-9                  [-1, 100]               0\n",
            "           Linear-10                   [-1, 10]           1,010\n",
            "================================================================\n",
            "Total params: 2,192,246\n",
            "Trainable params: 2,192,246\n",
            "Non-trainable params: 0\n",
            "----------------------------------------------------------------\n",
            "Input size (MB): 0.00\n",
            "Forward/backward pass size (MB): 0.04\n",
            "Params size (MB): 8.36\n",
            "Estimated Total Size (MB): 8.41\n",
            "----------------------------------------------------------------\n"
          ]
        }
      ],
      "source": [
        "torchsummary.summary(OverfittingNeuralNetwork().to(device), (28*28,))"
      ]
    },
    {
      "cell_type": "code",
      "execution_count": 18,
      "metadata": {
        "id": "YPynK6aMN-SR",
        "colab": {
          "base_uri": "https://localhost:8080/"
        },
        "outputId": "e56538ee-df87-4da2-a1cd-e47a002c274b"
      },
      "outputs": [
        {
          "output_type": "stream",
          "name": "stdout",
          "text": [
            "train loss = 0.004596658498545488\n",
            "train accuracy = 0.7913833333333333\n",
            "test loss = 0.0017197856768965721\n",
            "test accuracy = 0.8413\n",
            "train loss = 0.0029420729503035546\n",
            "train accuracy = 0.8636833333333334\n",
            "test loss = 0.0015917626060545445\n",
            "test accuracy = 0.8523\n",
            "train loss = 0.0026147327808042366\n",
            "train accuracy = 0.87625\n",
            "test loss = 0.0015583962589502335\n",
            "test accuracy = 0.8567\n",
            "train loss = 0.0023882641181349755\n",
            "train accuracy = 0.8865666666666666\n",
            "test loss = 0.0015352773383259773\n",
            "test accuracy = 0.857\n",
            "train loss = 0.0022192850927511853\n",
            "train accuracy = 0.8942666666666667\n",
            "test loss = 0.0014564947471022605\n",
            "test accuracy = 0.8648\n",
            "train loss = 0.002074147795761625\n",
            "train accuracy = 0.9012833333333333\n",
            "test loss = 0.0014273597940802575\n",
            "test accuracy = 0.8684\n",
            "train loss = 0.0019514464141180117\n",
            "train accuracy = 0.9071833333333333\n",
            "test loss = 0.0013609300062060357\n",
            "test accuracy = 0.8756\n",
            "train loss = 0.0018494739575932422\n",
            "train accuracy = 0.91135\n",
            "test loss = 0.0013547944515943527\n",
            "test accuracy = 0.8777\n",
            "train loss = 0.001755941892042756\n",
            "train accuracy = 0.9160166666666667\n",
            "test loss = 0.0013568797394633294\n",
            "test accuracy = 0.8811\n",
            "train loss = 0.0016734277721494437\n",
            "train accuracy = 0.9200166666666667\n",
            "test loss = 0.0013872976943850516\n",
            "test accuracy = 0.882\n",
            "train loss = 0.0016047300885121028\n",
            "train accuracy = 0.92335\n",
            "test loss = 0.0014130847454071045\n",
            "test accuracy = 0.8826\n",
            "train loss = 0.0015436587795615196\n",
            "train accuracy = 0.9263166666666667\n",
            "test loss = 0.001478498136997223\n",
            "test accuracy = 0.8808\n",
            "train loss = 0.0014628518304477135\n",
            "train accuracy = 0.9306\n",
            "test loss = 0.0014576315000653266\n",
            "test accuracy = 0.8859\n",
            "train loss = 0.0013885695854822795\n",
            "train accuracy = 0.9337166666666666\n",
            "test loss = 0.0015766560703516007\n",
            "test accuracy = 0.883\n",
            "train loss = 0.001308688281973203\n",
            "train accuracy = 0.93825\n",
            "test loss = 0.0016199045240879058\n",
            "test accuracy = 0.8821\n",
            "train loss = 0.0012477156619851788\n",
            "train accuracy = 0.9410833333333334\n",
            "test loss = 0.0017550673946738243\n",
            "test accuracy = 0.8817\n",
            "train loss = 0.0012024232598021626\n",
            "train accuracy = 0.9428166666666666\n",
            "test loss = 0.0018920074969530107\n",
            "test accuracy = 0.8783\n",
            "train loss = 0.0011611156650508444\n",
            "train accuracy = 0.9441833333333334\n",
            "test loss = 0.0018998177111148834\n",
            "test accuracy = 0.8763\n",
            "train loss = 0.0010917092820629478\n",
            "train accuracy = 0.9476166666666667\n",
            "test loss = 0.001915731218457222\n",
            "test accuracy = 0.879\n",
            "train loss = 0.0010705985506996513\n",
            "train accuracy = 0.9487833333333333\n",
            "test loss = 0.0018865699291229247\n",
            "test accuracy = 0.8814\n",
            "train loss = 0.0010610001015166441\n",
            "train accuracy = 0.9477166666666667\n",
            "test loss = 0.0017215244978666306\n",
            "test accuracy = 0.8903\n",
            "train loss = 0.0010211458686739206\n",
            "train accuracy = 0.9506166666666667\n",
            "test loss = 0.0015798368245363236\n",
            "test accuracy = 0.8929\n",
            "train loss = 0.000971565988411506\n",
            "train accuracy = 0.9521333333333334\n",
            "test loss = 0.0016527208656072618\n",
            "test accuracy = 0.8918\n",
            "train loss = 0.0009477636958782872\n",
            "train accuracy = 0.9527166666666667\n",
            "test loss = 0.0017364562690258027\n",
            "test accuracy = 0.8899\n",
            "train loss = 0.0009264462230106195\n",
            "train accuracy = 0.95415\n",
            "test loss = 0.0019536987811326983\n",
            "test accuracy = 0.8833\n",
            "train loss = 0.000890028221004953\n",
            "train accuracy = 0.9561666666666667\n",
            "test loss = 0.002031363672018051\n",
            "test accuracy = 0.8854\n",
            "train loss = 0.0008961541198194027\n",
            "train accuracy = 0.9566166666666667\n",
            "test loss = 0.0021163068644702433\n",
            "test accuracy = 0.8815\n",
            "train loss = 0.0009161663012579083\n",
            "train accuracy = 0.9551333333333333\n",
            "test loss = 0.0021045660078525545\n",
            "test accuracy = 0.8788\n",
            "train loss = 0.0008700660640684267\n",
            "train accuracy = 0.9576666666666667\n",
            "test loss = 0.0020938764423131945\n",
            "test accuracy = 0.8801\n",
            "train loss = 0.0008327774962410331\n",
            "train accuracy = 0.9587666666666667\n",
            "test loss = 0.002026219367980957\n",
            "test accuracy = 0.8874\n",
            "train loss = 0.0008075734772098561\n",
            "train accuracy = 0.9595666666666667\n",
            "test loss = 0.002012800122797489\n",
            "test accuracy = 0.8906\n",
            "train loss = 0.0007725899109616876\n",
            "train accuracy = 0.9613\n",
            "test loss = 0.0021165911838412284\n",
            "test accuracy = 0.8915\n",
            "train loss = 0.000727706481423229\n",
            "train accuracy = 0.9634166666666667\n",
            "test loss = 0.0021027094066143038\n",
            "test accuracy = 0.8906\n",
            "train loss = 0.0006843378142143289\n",
            "train accuracy = 0.9654\n",
            "test loss = 0.0023528416827321053\n",
            "test accuracy = 0.8905\n",
            "train loss = 0.000676912026355664\n",
            "train accuracy = 0.9664166666666667\n",
            "test loss = 0.002232309778034687\n",
            "test accuracy = 0.8925\n",
            "train loss = 0.0006418054649916788\n",
            "train accuracy = 0.9681\n",
            "test loss = 0.002258198496699333\n",
            "test accuracy = 0.8912\n",
            "train loss = 0.0006132318554756542\n",
            "train accuracy = 0.9695333333333334\n",
            "test loss = 0.0025365458846092225\n",
            "test accuracy = 0.8865\n",
            "train loss = 0.0006462866924392681\n",
            "train accuracy = 0.9679333333333333\n",
            "test loss = 0.00259411401078105\n",
            "test accuracy = 0.8816\n",
            "train loss = 0.0006074046252450595\n",
            "train accuracy = 0.9691166666666666\n",
            "test loss = 0.0024335912860929967\n",
            "test accuracy = 0.8893\n",
            "train loss = 0.0005600552110273081\n",
            "train accuracy = 0.9716833333333333\n",
            "test loss = 0.0024752160232514144\n",
            "test accuracy = 0.8931\n",
            "train loss = 0.0005976516248503079\n",
            "train accuracy = 0.9696666666666667\n",
            "test loss = 0.002488718434656039\n",
            "test accuracy = 0.8894\n",
            "train loss = 0.0005679102658294142\n",
            "train accuracy = 0.9711\n",
            "test loss = 0.0023565290047670713\n",
            "test accuracy = 0.8885\n",
            "train loss = 0.0005710645377635956\n",
            "train accuracy = 0.9705833333333334\n",
            "test loss = 0.0025437813117168842\n",
            "test accuracy = 0.8924\n",
            "train loss = 0.0005470676089947423\n",
            "train accuracy = 0.9723333333333334\n",
            "test loss = 0.0025744778893887995\n",
            "test accuracy = 0.8922\n",
            "train loss = 0.0005334108317891756\n",
            "train accuracy = 0.9732166666666666\n",
            "test loss = 0.0025972983501851557\n",
            "test accuracy = 0.8907\n",
            "train loss = 0.00047972843569392957\n",
            "train accuracy = 0.9755166666666667\n",
            "test loss = 0.0027232579812873155\n",
            "test accuracy = 0.8884\n",
            "train loss = 0.0004740671283720682\n",
            "train accuracy = 0.9755833333333334\n",
            "test loss = 0.0026940207329083934\n",
            "test accuracy = 0.8873\n",
            "train loss = 0.00048319724798202515\n",
            "train accuracy = 0.9762\n",
            "test loss = 0.0029255693785846235\n",
            "test accuracy = 0.8855\n",
            "train loss = 0.00045370312720381965\n",
            "train accuracy = 0.97695\n",
            "test loss = 0.0028595144611550495\n",
            "test accuracy = 0.8889\n",
            "train loss = 0.0004429434665478766\n",
            "train accuracy = 0.97805\n",
            "test loss = 0.002954217745177448\n",
            "test accuracy = 0.8885\n",
            "final train loss = 0.0004429434665478766\n",
            "final train accuracy = 0.97805\n",
            "final test loss = 0.002954217745177448\n",
            "final test accuracy = 0.8885\n"
          ]
        }
      ],
      "source": [
        "model_over = OverfittingNeuralNetwork().to(device)\n",
        "opt = torch.optim.Adam(model_over.parameters(), lr=0.0003)\n",
        "loss_func = nn.CrossEntropyLoss()\n",
        "\n",
        "epochs = 50\n",
        "\n",
        "train_loss_history, test_loss_history, train_ac_history, test_ac_history = train_model(epochs, model_over, device, train_loader, test_loader, loss_func, opt)\n",
        "\n",
        "print(f'final train loss = {train_loss_history[-1]}')\n",
        "print(f'final train accuracy = {train_ac_history[-1]}')\n",
        "print(f'final test loss = {test_loss_history[-1]}')\n",
        "print(f'final test accuracy = {test_ac_history[-1]}')"
      ]
    },
    {
      "cell_type": "code",
      "source": [
        "grid = np.arange(1, epochs + 1)\n",
        "\n",
        "plt.figure(figsize=(18,7))\n",
        "plt.plot(grid, train_ac_history, label='train accuracy')\n",
        "plt.plot(grid, test_ac_history, label='test accuracy')\n",
        "plt.xlabel(\"№ epoch\")\n",
        "plt.legend()\n",
        "plt.title(\"accuracy\")\n",
        "plt.show()\n",
        "\n",
        "plt.figure(figsize=(18,7))\n",
        "plt.plot(grid, train_loss_history, label='train loss')\n",
        "plt.plot(grid, test_loss_history, label='test loss')\n",
        "plt.xlabel(\"№ epoch\")\n",
        "plt.legend()\n",
        "plt.title(\"loss\")\n",
        "plt.show()"
      ],
      "metadata": {
        "colab": {
          "base_uri": "https://localhost:8080/",
          "height": 899
        },
        "id": "9eXAEwlcqiWf",
        "outputId": "23e6c8ba-fcc4-4394-d1d7-71e7d6cc77d2"
      },
      "execution_count": 19,
      "outputs": [
        {
          "output_type": "display_data",
          "data": {
            "text/plain": [
              "<Figure size 1296x504 with 1 Axes>"
            ],
            "image/png": "[encoded data removed]"
          },
          "metadata": {
            "needs_background": "light"
          }
        },
        {
          "output_type": "display_data",
          "data": {
            "text/plain": [
              "<Figure size 1296x504 with 1 Axes>"
            ],
            "image/png": "[encoded data removed]"
          },
          "metadata": {
            "needs_background": "light"
          }
        }
      ]
    },
    {
      "cell_type": "markdown",
      "metadata": {
        "id": "CqOS6T2bN-SR"
      },
      "source": [
        "### Task 3: Fix it.\n",
        "Fix the overfitted network from the previous step (at least partially) by using regularization techniques (Dropout/Batchnorm/...) and demonstrate the results. "
      ]
    },
    {
      "cell_type": "code",
      "execution_count": 20,
      "metadata": {
        "id": "ZiK-4Td-N-SR"
      },
      "outputs": [],
      "source": [
        "class FixedNeuralNetwork(nn.Module):\n",
        "    def __init__(self, input_shape=28*28, num_classes=10, input_channels=1):\n",
        "        super(self.__class__, self).__init__()\n",
        "        self.model = nn.Sequential(\n",
        "            nn.Flatten(), # This layer converts image into a vector to use Linear layers afterwards\n",
        "            # Your network structure comes here\n",
        "            nn.Linear(input_shape, 28*28*2),\n",
        "            nn.BatchNorm1d(28*28*2),\n",
        "            nn.Dropout(0.8),\n",
        "            nn.ReLU(),\n",
        "            nn.Linear(28*28*2, 512),\n",
        "            nn.Dropout(0.8),\n",
        "            nn.Tanh(),\n",
        "            nn.Linear(512, 256),\n",
        "            nn.BatchNorm1d(256),\n",
        "            nn.ReLU(),\n",
        "            nn.Dropout(0.8),\n",
        "            nn.Linear(256, 100),\n",
        "            nn.Dropout(0.8),\n",
        "            nn.ReLU(),\n",
        "            nn.Linear(100, num_classes)\n",
        "        )\n",
        "        \n",
        "    def forward(self, inp):       \n",
        "        out = self.model(inp)\n",
        "        return out"
      ]
    },
    {
      "cell_type": "code",
      "execution_count": 21,
      "metadata": {
        "id": "IUwgkqy0N-SR",
        "colab": {
          "base_uri": "https://localhost:8080/"
        },
        "outputId": "8947fb0f-dc05-456d-f476-526520920e93"
      },
      "outputs": [
        {
          "output_type": "stream",
          "name": "stdout",
          "text": [
            "----------------------------------------------------------------\n",
            "        Layer (type)               Output Shape         Param #\n",
            "================================================================\n",
            "           Flatten-1                  [-1, 784]               0\n",
            "            Linear-2                 [-1, 1568]       1,230,880\n",
            "       BatchNorm1d-3                 [-1, 1568]           3,136\n",
            "           Dropout-4                 [-1, 1568]               0\n",
            "              ReLU-5                 [-1, 1568]               0\n",
            "            Linear-6                  [-1, 512]         803,328\n",
            "           Dropout-7                  [-1, 512]               0\n",
            "              Tanh-8                  [-1, 512]               0\n",
            "            Linear-9                  [-1, 256]         131,328\n",
            "      BatchNorm1d-10                  [-1, 256]             512\n",
            "             ReLU-11                  [-1, 256]               0\n",
            "          Dropout-12                  [-1, 256]               0\n",
            "           Linear-13                  [-1, 100]          25,700\n",
            "          Dropout-14                  [-1, 100]               0\n",
            "             ReLU-15                  [-1, 100]               0\n",
            "           Linear-16                   [-1, 10]           1,010\n",
            "================================================================\n",
            "Total params: 2,195,894\n",
            "Trainable params: 2,195,894\n",
            "Non-trainable params: 0\n",
            "----------------------------------------------------------------\n",
            "Input size (MB): 0.00\n",
            "Forward/backward pass size (MB): 0.08\n",
            "Params size (MB): 8.38\n",
            "Estimated Total Size (MB): 8.46\n",
            "----------------------------------------------------------------\n"
          ]
        }
      ],
      "source": [
        "torchsummary.summary(FixedNeuralNetwork().to(device), (28*28,))"
      ]
    },
    {
      "cell_type": "code",
      "execution_count": 22,
      "metadata": {
        "id": "e-aVcPIoN-SR",
        "colab": {
          "base_uri": "https://localhost:8080/"
        },
        "outputId": "7b891f98-f49f-400a-ac80-9163efa76d71"
      },
      "outputs": [
        {
          "output_type": "stream",
          "name": "stdout",
          "text": [
            "train loss = 0.016076600696643194\n",
            "train accuracy = 0.2195\n",
            "test loss = 0.004739337372779846\n",
            "test accuracy = 0.4857\n",
            "train loss = 0.009651447264353434\n",
            "train accuracy = 0.49866666666666665\n",
            "test loss = 0.003846901571750641\n",
            "test accuracy = 0.6582\n",
            "train loss = 0.007094004660844803\n",
            "train accuracy = 0.6249\n",
            "test loss = 0.0033529096007347105\n",
            "test accuracy = 0.7198\n",
            "train loss = 0.0057714991768201196\n",
            "train accuracy = 0.7065833333333333\n",
            "test loss = 0.003188281548023224\n",
            "test accuracy = 0.7532\n",
            "train loss = 0.00484221233278513\n",
            "train accuracy = 0.7704166666666666\n",
            "test loss = 0.002960851263999939\n",
            "test accuracy = 0.766\n",
            "train loss = 0.004161655157307783\n",
            "train accuracy = 0.8132833333333334\n",
            "test loss = 0.0027728478997945784\n",
            "test accuracy = 0.759\n",
            "train loss = 0.0036668229242165884\n",
            "train accuracy = 0.8469\n",
            "test loss = 0.0027887303590774537\n",
            "test accuracy = 0.7705\n",
            "train loss = 0.003291658753156662\n",
            "train accuracy = 0.8692333333333333\n",
            "test loss = 0.002556157076358795\n",
            "test accuracy = 0.7812\n",
            "train loss = 0.0030029462411999704\n",
            "train accuracy = 0.8872666666666666\n",
            "test loss = 0.002422352463006973\n",
            "test accuracy = 0.7944\n",
            "train loss = 0.0028766929437716803\n",
            "train accuracy = 0.8929833333333334\n",
            "test loss = 0.0024755739271640777\n",
            "test accuracy = 0.7863\n",
            "train loss = 0.0027065600817402203\n",
            "train accuracy = 0.9043166666666667\n",
            "test loss = 0.002643401876091957\n",
            "test accuracy = 0.7817\n",
            "train loss = 0.0025456194438040255\n",
            "train accuracy = 0.9110833333333334\n",
            "test loss = 0.0024369706183671952\n",
            "test accuracy = 0.8012\n",
            "train loss = 0.0024805679279069105\n",
            "train accuracy = 0.9153833333333333\n",
            "test loss = 0.0025917452812194825\n",
            "test accuracy = 0.778\n",
            "train loss = 0.0024587479524314404\n",
            "train accuracy = 0.9163\n",
            "test loss = 0.002689237627387047\n",
            "test accuracy = 0.7911\n",
            "train loss = 0.0023508973797162374\n",
            "train accuracy = 0.9210333333333334\n",
            "test loss = 0.0024913568288087843\n",
            "test accuracy = 0.7986\n",
            "train loss = 0.0022959555571277937\n",
            "train accuracy = 0.92485\n",
            "test loss = 0.002505804091691971\n",
            "test accuracy = 0.789\n",
            "train loss = 0.0022116024064520994\n",
            "train accuracy = 0.92895\n",
            "test loss = 0.0027327886581420898\n",
            "test accuracy = 0.7929\n",
            "train loss = 0.002173817204684019\n",
            "train accuracy = 0.9305\n",
            "test loss = 0.002736620858311653\n",
            "test accuracy = 0.7986\n",
            "train loss = 0.0021923354228337607\n",
            "train accuracy = 0.9301666666666667\n",
            "test loss = 0.0026046682566404343\n",
            "test accuracy = 0.7975\n",
            "train loss = 0.002130912271638711\n",
            "train accuracy = 0.9318\n",
            "test loss = 0.002379913640022278\n",
            "test accuracy = 0.8091\n",
            "final train loss = 0.002130912271638711\n",
            "final train accuracy = 0.9318\n",
            "final test loss = 0.002379913640022278\n",
            "final test accuracy = 0.8091\n"
          ]
        }
      ],
      "source": [
        "model_fix = FixedNeuralNetwork().to(device)\n",
        "opt = torch.optim.Adam(model_fix.parameters(), lr=0.0003, weight_decay=0.008)\n",
        "loss_func = nn.CrossEntropyLoss()\n",
        "\n",
        "epochs = 20\n",
        "\n",
        "train_loss_history, test_loss_history, train_ac_history, test_ac_history = train_model(epochs, model_fix, device, train_loader, test_loader, loss_func, opt)\n",
        "\n",
        "print(f'final train loss = {train_loss_history[-1]}')\n",
        "print(f'final train accuracy = {train_ac_history[-1]}')\n",
        "print(f'final test loss = {test_loss_history[-1]}')\n",
        "print(f'final test accuracy = {test_ac_history[-1]}')"
      ]
    },
    {
      "cell_type": "code",
      "source": [
        "grid = np.arange(1, epochs + 1)\n",
        "\n",
        "plt.figure(figsize=(18,7))\n",
        "plt.plot(grid, train_ac_history, label='train accuracy')\n",
        "plt.plot(grid, test_ac_history, label='test accuracy')\n",
        "plt.xlabel(\"№ epoch\")\n",
        "plt.legend()\n",
        "plt.title(\"accuracy\")\n",
        "plt.show()\n",
        "\n",
        "plt.figure(figsize=(18,7))\n",
        "plt.plot(grid, train_loss_history, label='train loss')\n",
        "plt.plot(grid, test_loss_history, label='test loss')\n",
        "plt.xlabel(\"№ epoch\")\n",
        "plt.legend()\n",
        "plt.title(\"loss\")\n",
        "plt.show()"
      ],
      "metadata": {
        "colab": {
          "base_uri": "https://localhost:8080/",
          "height": 899
        },
        "id": "TAMTpnH0sAAP",
        "outputId": "7daee3f3-897d-4e5e-e5cd-87cc2fdc5404"
      },
      "execution_count": 23,
      "outputs": [
        {
          "output_type": "display_data",
          "data": {
            "text/plain": [
              "<Figure size 1296x504 with 1 Axes>"
            ],
            "image/png": "[encoded data removed]"
          },
          "metadata": {
            "needs_background": "light"
          }
        },
        {
          "output_type": "display_data",
          "data": {
            "text/plain": [
              "<Figure size 1296x504 with 1 Axes>"
            ],
            "image/png": "[encoded data removed]"
          },
          "metadata": {
            "needs_background": "light"
          }
        }
      ]
    },
    {
      "cell_type": "markdown",
      "source": [
        "### Conclusion:\n",
        "\n",
        "Of these three methods, the last one turned out to be the best."
      ],
      "metadata": {
        "id": "HgXhHhvdsLM9"
      }
    },
    {
      "cell_type": "code",
      "source": [],
      "metadata": {
        "id": "J7neT2pistuk"
      },
      "execution_count": null,
      "outputs": []
    }
  ],
  "metadata": {
    "accelerator": "GPU",
    "colab": {
      "provenance": [],
      "include_colab_link": true
    },
    "kernelspec": {
      "display_name": "Python 3 (ipykernel)",
      "language": "python",
      "name": "python3"
    },
    "language_info": {
      "codemirror_mode": {
        "name": "ipython",
        "version": 3
      },
      "file_extension": ".py",
      "mimetype": "text/x-python",
      "name": "python",
      "nbconvert_exporter": "python",
      "pygments_lexer": "ipython3",
      "version": "3.9.7"
    },
    "widgets": {
      "application/vnd.jupyter.widget-state+json": {
        "bcdadb59cdd0475482a294e6a9a5fe3e": {
          "model_module": "@jupyter-widgets/controls",
          "model_name": "HBoxModel",
          "model_module_version": "1.5.0",
          "state": {
            "_dom_classes": [],
            "_model_module": "@jupyter-widgets/controls",
            "_model_module_version": "1.5.0",
            "_model_name": "HBoxModel",
            "_view_count": null,
            "_view_module": "@jupyter-widgets/controls",
            "_view_module_version": "1.5.0",
            "_view_name": "HBoxView",
            "box_style": "",
            "children": [
              "IPY_MODEL_41b84ce1052942018ac1bd3612c70bb3",
              "IPY_MODEL_ce438862441049e288a94cc4d847228e",
              "IPY_MODEL_daac8f2e5b4f4594b078429747f5a37b"
            ],
            "layout": "IPY_MODEL_5f0d5dcd426340fca5687c040905c3d3"
          }
        },
        "41b84ce1052942018ac1bd3612c70bb3": {
          "model_module": "@jupyter-widgets/controls",
          "model_name": "HTMLModel",
          "model_module_version": "1.5.0",
          "state": {
            "_dom_classes": [],
            "_model_module": "@jupyter-widgets/controls",
            "_model_module_version": "1.5.0",
            "_model_name": "HTMLModel",
            "_view_count": null,
            "_view_module": "@jupyter-widgets/controls",
            "_view_module_version": "1.5.0",
            "_view_name": "HTMLView",
            "description": "",
            "description_tooltip": null,
            "layout": "IPY_MODEL_e2cd259521904c0bb88f1dc4b47c6d41",
            "placeholder": "​",
            "style": "IPY_MODEL_4ab6c178517a425280523f4813dbb474",
            "value": "100%"
          }
        },
        "ce438862441049e288a94cc4d847228e": {
          "model_module": "@jupyter-widgets/controls",
          "model_name": "FloatProgressModel",
          "model_module_version": "1.5.0",
          "state": {
            "_dom_classes": [],
            "_model_module": "@jupyter-widgets/controls",
            "_model_module_version": "1.5.0",
            "_model_name": "FloatProgressModel",
            "_view_count": null,
            "_view_module": "@jupyter-widgets/controls",
            "_view_module_version": "1.5.0",
            "_view_name": "ProgressView",
            "bar_style": "success",
            "description": "",
            "description_tooltip": null,
            "layout": "IPY_MODEL_e0cc6eb915804d4491638093832134c1",
            "max": 26421880,
            "min": 0,
            "orientation": "horizontal",
            "style": "IPY_MODEL_deafe492e3a14ab4861f5167bfcf7bed",
            "value": 26421880
          }
        },
        "daac8f2e5b4f4594b078429747f5a37b": {
          "model_module": "@jupyter-widgets/controls",
          "model_name": "HTMLModel",
          "model_module_version": "1.5.0",
          "state": {
            "_dom_classes": [],
            "_model_module": "@jupyter-widgets/controls",
            "_model_module_version": "1.5.0",
            "_model_name": "HTMLModel",
            "_view_count": null,
            "_view_module": "@jupyter-widgets/controls",
            "_view_module_version": "1.5.0",
            "_view_name": "HTMLView",
            "description": "",
            "description_tooltip": null,
            "layout": "IPY_MODEL_0611c2dfbe834f4eab696ce1306678f7",
            "placeholder": "​",
            "style": "IPY_MODEL_53cc2cb646414c5082af4d718a10e9a8",
            "value": " 26421880/26421880 [00:00&lt;00:00, 113329733.09it/s]"
          }
        },
        "5f0d5dcd426340fca5687c040905c3d3": {
          "model_module": "@jupyter-widgets/base",
          "model_name": "LayoutModel",
          "model_module_version": "1.2.0",
          "state": {
            "_model_module": "@jupyter-widgets/base",
            "_model_module_version": "1.2.0",
            "_model_name": "LayoutModel",
            "_view_count": null,
            "_view_module": "@jupyter-widgets/base",
            "_view_module_version": "1.2.0",
            "_view_name": "LayoutView",
            "align_content": null,
            "align_items": null,
            "align_self": null,
            "border": null,
            "bottom": null,
            "display": null,
            "flex": null,
            "flex_flow": null,
            "grid_area": null,
            "grid_auto_columns": null,
            "grid_auto_flow": null,
            "grid_auto_rows": null,
            "grid_column": null,
            "grid_gap": null,
            "grid_row": null,
            "grid_template_areas": null,
            "grid_template_columns": null,
            "grid_template_rows": null,
            "height": null,
            "justify_content": null,
            "justify_items": null,
            "left": null,
            "margin": null,
            "max_height": null,
            "max_width": null,
            "min_height": null,
            "min_width": null,
            "object_fit": null,
            "object_position": null,
            "order": null,
            "overflow": null,
            "overflow_x": null,
            "overflow_y": null,
            "padding": null,
            "right": null,
            "top": null,
            "visibility": null,
            "width": null
          }
        },
        "e2cd259521904c0bb88f1dc4b47c6d41": {
          "model_module": "@jupyter-widgets/base",
          "model_name": "LayoutModel",
          "model_module_version": "1.2.0",
          "state": {
            "_model_module": "@jupyter-widgets/base",
            "_model_module_version": "1.2.0",
            "_model_name": "LayoutModel",
            "_view_count": null,
            "_view_module": "@jupyter-widgets/base",
            "_view_module_version": "1.2.0",
            "_view_name": "LayoutView",
            "align_content": null,
            "align_items": null,
            "align_self": null,
            "border": null,
            "bottom": null,
            "display": null,
            "flex": null,
            "flex_flow": null,
            "grid_area": null,
            "grid_auto_columns": null,
            "grid_auto_flow": null,
            "grid_auto_rows": null,
            "grid_column": null,
            "grid_gap": null,
            "grid_row": null,
            "grid_template_areas": null,
            "grid_template_columns": null,
            "grid_template_rows": null,
            "height": null,
            "justify_content": null,
            "justify_items": null,
            "left": null,
            "margin": null,
            "max_height": null,
            "max_width": null,
            "min_height": null,
            "min_width": null,
            "object_fit": null,
            "object_position": null,
            "order": null,
            "overflow": null,
            "overflow_x": null,
            "overflow_y": null,
            "padding": null,
            "right": null,
            "top": null,
            "visibility": null,
            "width": null
          }
        },
        "4ab6c178517a425280523f4813dbb474": {
          "model_module": "@jupyter-widgets/controls",
          "model_name": "DescriptionStyleModel",
          "model_module_version": "1.5.0",
          "state": {
            "_model_module": "@jupyter-widgets/controls",
            "_model_module_version": "1.5.0",
            "_model_name": "DescriptionStyleModel",
            "_view_count": null,
            "_view_module": "@jupyter-widgets/base",
            "_view_module_version": "1.2.0",
            "_view_name": "StyleView",
            "description_width": ""
          }
        },
        "e0cc6eb915804d4491638093832134c1": {
          "model_module": "@jupyter-widgets/base",
          "model_name": "LayoutModel",
          "model_module_version": "1.2.0",
          "state": {
            "_model_module": "@jupyter-widgets/base",
            "_model_module_version": "1.2.0",
            "_model_name": "LayoutModel",
            "_view_count": null,
            "_view_module": "@jupyter-widgets/base",
            "_view_module_version": "1.2.0",
            "_view_name": "LayoutView",
            "align_content": null,
            "align_items": null,
            "align_self": null,
            "border": null,
            "bottom": null,
            "display": null,
            "flex": null,
            "flex_flow": null,
            "grid_area": null,
            "grid_auto_columns": null,
            "grid_auto_flow": null,
            "grid_auto_rows": null,
            "grid_column": null,
            "grid_gap": null,
            "grid_row": null,
            "grid_template_areas": null,
            "grid_template_columns": null,
            "grid_template_rows": null,
            "height": null,
            "justify_content": null,
            "justify_items": null,
            "left": null,
            "margin": null,
            "max_height": null,
            "max_width": null,
            "min_height": null,
            "min_width": null,
            "object_fit": null,
            "object_position": null,
            "order": null,
            "overflow": null,
            "overflow_x": null,
            "overflow_y": null,
            "padding": null,
            "right": null,
            "top": null,
            "visibility": null,
            "width": null
          }
        },
        "deafe492e3a14ab4861f5167bfcf7bed": {
          "model_module": "@jupyter-widgets/controls",
          "model_name": "ProgressStyleModel",
          "model_module_version": "1.5.0",
          "state": {
            "_model_module": "@jupyter-widgets/controls",
            "_model_module_version": "1.5.0",
            "_model_name": "ProgressStyleModel",
            "_view_count": null,
            "_view_module": "@jupyter-widgets/base",
            "_view_module_version": "1.2.0",
            "_view_name": "StyleView",
            "bar_color": null,
            "description_width": ""
          }
        },
        "0611c2dfbe834f4eab696ce1306678f7": {
          "model_module": "@jupyter-widgets/base",
          "model_name": "LayoutModel",
          "model_module_version": "1.2.0",
          "state": {
            "_model_module": "@jupyter-widgets/base",
            "_model_module_version": "1.2.0",
            "_model_name": "LayoutModel",
            "_view_count": null,
            "_view_module": "@jupyter-widgets/base",
            "_view_module_version": "1.2.0",
            "_view_name": "LayoutView",
            "align_content": null,
            "align_items": null,
            "align_self": null,
            "border": null,
            "bottom": null,
            "display": null,
            "flex": null,
            "flex_flow": null,
            "grid_area": null,
            "grid_auto_columns": null,
            "grid_auto_flow": null,
            "grid_auto_rows": null,
            "grid_column": null,
            "grid_gap": null,
            "grid_row": null,
            "grid_template_areas": null,
            "grid_template_columns": null,
            "grid_template_rows": null,
            "height": null,
            "justify_content": null,
            "justify_items": null,
            "left": null,
            "margin": null,
            "max_height": null,
            "max_width": null,
            "min_height": null,
            "min_width": null,
            "object_fit": null,
            "object_position": null,
            "order": null,
            "overflow": null,
            "overflow_x": null,
            "overflow_y": null,
            "padding": null,
            "right": null,
            "top": null,
            "visibility": null,
            "width": null
          }
        },
        "53cc2cb646414c5082af4d718a10e9a8": {
          "model_module": "@jupyter-widgets/controls",
          "model_name": "DescriptionStyleModel",
          "model_module_version": "1.5.0",
          "state": {
            "_model_module": "@jupyter-widgets/controls",
            "_model_module_version": "1.5.0",
            "_model_name": "DescriptionStyleModel",
            "_view_count": null,
            "_view_module": "@jupyter-widgets/base",
            "_view_module_version": "1.2.0",
            "_view_name": "StyleView",
            "description_width": ""
          }
        },
        "b1f5883def6740a7a63ffee27965bdf5": {
          "model_module": "@jupyter-widgets/controls",
          "model_name": "HBoxModel",
          "model_module_version": "1.5.0",
          "state": {
            "_dom_classes": [],
            "_model_module": "@jupyter-widgets/controls",
            "_model_module_version": "1.5.0",
            "_model_name": "HBoxModel",
            "_view_count": null,
            "_view_module": "@jupyter-widgets/controls",
            "_view_module_version": "1.5.0",
            "_view_name": "HBoxView",
            "box_style": "",
            "children": [
              "IPY_MODEL_054f7b76b4ce431da26eb82b176d9994",
              "IPY_MODEL_89bcc1f8e85a490899d2fd50614b593e",
              "IPY_MODEL_d25b3c4027dd4edd8f9ac2ff419c1fd0"
            ],
            "layout": "IPY_MODEL_bdea8cd64259401c80e11402099447e5"
          }
        },
        "054f7b76b4ce431da26eb82b176d9994": {
          "model_module": "@jupyter-widgets/controls",
          "model_name": "HTMLModel",
          "model_module_version": "1.5.0",
          "state": {
            "_dom_classes": [],
            "_model_module": "@jupyter-widgets/controls",
            "_model_module_version": "1.5.0",
            "_model_name": "HTMLModel",
            "_view_count": null,
            "_view_module": "@jupyter-widgets/controls",
            "_view_module_version": "1.5.0",
            "_view_name": "HTMLView",
            "description": "",
            "description_tooltip": null,
            "layout": "IPY_MODEL_ffe4d705ca1c4fee93b6669e00abd820",
            "placeholder": "​",
            "style": "IPY_MODEL_03f2ee20b5d24aed85c0b36e99858095",
            "value": "100%"
          }
        },
        "89bcc1f8e85a490899d2fd50614b593e": {
          "model_module": "@jupyter-widgets/controls",
          "model_name": "FloatProgressModel",
          "model_module_version": "1.5.0",
          "state": {
            "_dom_classes": [],
            "_model_module": "@jupyter-widgets/controls",
            "_model_module_version": "1.5.0",
            "_model_name": "FloatProgressModel",
            "_view_count": null,
            "_view_module": "@jupyter-widgets/controls",
            "_view_module_version": "1.5.0",
            "_view_name": "ProgressView",
            "bar_style": "success",
            "description": "",
            "description_tooltip": null,
            "layout": "IPY_MODEL_860c8d4917504155a3eaeb2a607f66ca",
            "max": 29515,
            "min": 0,
            "orientation": "horizontal",
            "style": "IPY_MODEL_02c0651054554e4fa3fc8a0f90de0713",
            "value": 29515
          }
        },
        "d25b3c4027dd4edd8f9ac2ff419c1fd0": {
          "model_module": "@jupyter-widgets/controls",
          "model_name": "HTMLModel",
          "model_module_version": "1.5.0",
          "state": {
            "_dom_classes": [],
            "_model_module": "@jupyter-widgets/controls",
            "_model_module_version": "1.5.0",
            "_model_name": "HTMLModel",
            "_view_count": null,
            "_view_module": "@jupyter-widgets/controls",
            "_view_module_version": "1.5.0",
            "_view_name": "HTMLView",
            "description": "",
            "description_tooltip": null,
            "layout": "IPY_MODEL_f08aa247b6434917871de8a692b33483",
            "placeholder": "​",
            "style": "IPY_MODEL_46b121d1438d43b9b68eb8fa44d57d79",
            "value": " 29515/29515 [00:00&lt;00:00, 1885852.21it/s]"
          }
        },
        "bdea8cd64259401c80e11402099447e5": {
          "model_module": "@jupyter-widgets/base",
          "model_name": "LayoutModel",
          "model_module_version": "1.2.0",
          "state": {
            "_model_module": "@jupyter-widgets/base",
            "_model_module_version": "1.2.0",
            "_model_name": "LayoutModel",
            "_view_count": null,
            "_view_module": "@jupyter-widgets/base",
            "_view_module_version": "1.2.0",
            "_view_name": "LayoutView",
            "align_content": null,
            "align_items": null,
            "align_self": null,
            "border": null,
            "bottom": null,
            "display": null,
            "flex": null,
            "flex_flow": null,
            "grid_area": null,
            "grid_auto_columns": null,
            "grid_auto_flow": null,
            "grid_auto_rows": null,
            "grid_column": null,
            "grid_gap": null,
            "grid_row": null,
            "grid_template_areas": null,
            "grid_template_columns": null,
            "grid_template_rows": null,
            "height": null,
            "justify_content": null,
            "justify_items": null,
            "left": null,
            "margin": null,
            "max_height": null,
            "max_width": null,
            "min_height": null,
            "min_width": null,
            "object_fit": null,
            "object_position": null,
            "order": null,
            "overflow": null,
            "overflow_x": null,
            "overflow_y": null,
            "padding": null,
            "right": null,
            "top": null,
            "visibility": null,
            "width": null
          }
        },
        "ffe4d705ca1c4fee93b6669e00abd820": {
          "model_module": "@jupyter-widgets/base",
          "model_name": "LayoutModel",
          "model_module_version": "1.2.0",
          "state": {
            "_model_module": "@jupyter-widgets/base",
            "_model_module_version": "1.2.0",
            "_model_name": "LayoutModel",
            "_view_count": null,
            "_view_module": "@jupyter-widgets/base",
            "_view_module_version": "1.2.0",
            "_view_name": "LayoutView",
            "align_content": null,
            "align_items": null,
            "align_self": null,
            "border": null,
            "bottom": null,
            "display": null,
            "flex": null,
            "flex_flow": null,
            "grid_area": null,
            "grid_auto_columns": null,
            "grid_auto_flow": null,
            "grid_auto_rows": null,
            "grid_column": null,
            "grid_gap": null,
            "grid_row": null,
            "grid_template_areas": null,
            "grid_template_columns": null,
            "grid_template_rows": null,
            "height": null,
            "justify_content": null,
            "justify_items": null,
            "left": null,
            "margin": null,
            "max_height": null,
            "max_width": null,
            "min_height": null,
            "min_width": null,
            "object_fit": null,
            "object_position": null,
            "order": null,
            "overflow": null,
            "overflow_x": null,
            "overflow_y": null,
            "padding": null,
            "right": null,
            "top": null,
            "visibility": null,
            "width": null
          }
        },
        "03f2ee20b5d24aed85c0b36e99858095": {
          "model_module": "@jupyter-widgets/controls",
          "model_name": "DescriptionStyleModel",
          "model_module_version": "1.5.0",
          "state": {
            "_model_module": "@jupyter-widgets/controls",
            "_model_module_version": "1.5.0",
            "_model_name": "DescriptionStyleModel",
            "_view_count": null,
            "_view_module": "@jupyter-widgets/base",
            "_view_module_version": "1.2.0",
            "_view_name": "StyleView",
            "description_width": ""
          }
        },
        "860c8d4917504155a3eaeb2a607f66ca": {
          "model_module": "@jupyter-widgets/base",
          "model_name": "LayoutModel",
          "model_module_version": "1.2.0",
          "state": {
            "_model_module": "@jupyter-widgets/base",
            "_model_module_version": "1.2.0",
            "_model_name": "LayoutModel",
            "_view_count": null,
            "_view_module": "@jupyter-widgets/base",
            "_view_module_version": "1.2.0",
            "_view_name": "LayoutView",
            "align_content": null,
            "align_items": null,
            "align_self": null,
            "border": null,
            "bottom": null,
            "display": null,
            "flex": null,
            "flex_flow": null,
            "grid_area": null,
            "grid_auto_columns": null,
            "grid_auto_flow": null,
            "grid_auto_rows": null,
            "grid_column": null,
            "grid_gap": null,
            "grid_row": null,
            "grid_template_areas": null,
            "grid_template_columns": null,
            "grid_template_rows": null,
            "height": null,
            "justify_content": null,
            "justify_items": null,
            "left": null,
            "margin": null,
            "max_height": null,
            "max_width": null,
            "min_height": null,
            "min_width": null,
            "object_fit": null,
            "object_position": null,
            "order": null,
            "overflow": null,
            "overflow_x": null,
            "overflow_y": null,
            "padding": null,
            "right": null,
            "top": null,
            "visibility": null,
            "width": null
          }
        },
        "02c0651054554e4fa3fc8a0f90de0713": {
          "model_module": "@jupyter-widgets/controls",
          "model_name": "ProgressStyleModel",
          "model_module_version": "1.5.0",
          "state": {
            "_model_module": "@jupyter-widgets/controls",
            "_model_module_version": "1.5.0",
            "_model_name": "ProgressStyleModel",
            "_view_count": null,
            "_view_module": "@jupyter-widgets/base",
            "_view_module_version": "1.2.0",
            "_view_name": "StyleView",
            "bar_color": null,
            "description_width": ""
          }
        },
        "f08aa247b6434917871de8a692b33483": {
          "model_module": "@jupyter-widgets/base",
          "model_name": "LayoutModel",
          "model_module_version": "1.2.0",
          "state": {
            "_model_module": "@jupyter-widgets/base",
            "_model_module_version": "1.2.0",
            "_model_name": "LayoutModel",
            "_view_count": null,
            "_view_module": "@jupyter-widgets/base",
            "_view_module_version": "1.2.0",
            "_view_name": "LayoutView",
            "align_content": null,
            "align_items": null,
            "align_self": null,
            "border": null,
            "bottom": null,
            "display": null,
            "flex": null,
            "flex_flow": null,
            "grid_area": null,
            "grid_auto_columns": null,
            "grid_auto_flow": null,
            "grid_auto_rows": null,
            "grid_column": null,
            "grid_gap": null,
            "grid_row": null,
            "grid_template_areas": null,
            "grid_template_columns": null,
            "grid_template_rows": null,
            "height": null,
            "justify_content": null,
            "justify_items": null,
            "left": null,
            "margin": null,
            "max_height": null,
            "max_width": null,
            "min_height": null,
            "min_width": null,
            "object_fit": null,
            "object_position": null,
            "order": null,
            "overflow": null,
            "overflow_x": null,
            "overflow_y": null,
            "padding": null,
            "right": null,
            "top": null,
            "visibility": null,
            "width": null
          }
        },
        "46b121d1438d43b9b68eb8fa44d57d79": {
          "model_module": "@jupyter-widgets/controls",
          "model_name": "DescriptionStyleModel",
          "model_module_version": "1.5.0",
          "state": {
            "_model_module": "@jupyter-widgets/controls",
            "_model_module_version": "1.5.0",
            "_model_name": "DescriptionStyleModel",
            "_view_count": null,
            "_view_module": "@jupyter-widgets/base",
            "_view_module_version": "1.2.0",
            "_view_name": "StyleView",
            "description_width": ""
          }
        },
        "9cd55263f49c4070a297b19f6124eb2f": {
          "model_module": "@jupyter-widgets/controls",
          "model_name": "HBoxModel",
          "model_module_version": "1.5.0",
          "state": {
            "_dom_classes": [],
            "_model_module": "@jupyter-widgets/controls",
            "_model_module_version": "1.5.0",
            "_model_name": "HBoxModel",
            "_view_count": null,
            "_view_module": "@jupyter-widgets/controls",
            "_view_module_version": "1.5.0",
            "_view_name": "HBoxView",
            "box_style": "",
            "children": [
              "IPY_MODEL_6a5e670d1aae411492f93fec2316b35e",
              "IPY_MODEL_e01d6cae75a44ef9b28483bc0f0705c2",
              "IPY_MODEL_cacb555cc7164bb69e901cb1d85a72fa"
            ],
            "layout": "IPY_MODEL_8c15757babc24081b873952170e4738f"
          }
        },
        "6a5e670d1aae411492f93fec2316b35e": {
          "model_module": "@jupyter-widgets/controls",
          "model_name": "HTMLModel",
          "model_module_version": "1.5.0",
          "state": {
            "_dom_classes": [],
            "_model_module": "@jupyter-widgets/controls",
            "_model_module_version": "1.5.0",
            "_model_name": "HTMLModel",
            "_view_count": null,
            "_view_module": "@jupyter-widgets/controls",
            "_view_module_version": "1.5.0",
            "_view_name": "HTMLView",
            "description": "",
            "description_tooltip": null,
            "layout": "IPY_MODEL_5501400192fa40de876b802d1f111b3d",
            "placeholder": "​",
            "style": "IPY_MODEL_c84deef0f53e451a862c2724fe31e4c2",
            "value": "100%"
          }
        },
        "e01d6cae75a44ef9b28483bc0f0705c2": {
          "model_module": "@jupyter-widgets/controls",
          "model_name": "FloatProgressModel",
          "model_module_version": "1.5.0",
          "state": {
            "_dom_classes": [],
            "_model_module": "@jupyter-widgets/controls",
            "_model_module_version": "1.5.0",
            "_model_name": "FloatProgressModel",
            "_view_count": null,
            "_view_module": "@jupyter-widgets/controls",
            "_view_module_version": "1.5.0",
            "_view_name": "ProgressView",
            "bar_style": "success",
            "description": "",
            "description_tooltip": null,
            "layout": "IPY_MODEL_2712a94021354bef9ad8ce96465ffcee",
            "max": 4422102,
            "min": 0,
            "orientation": "horizontal",
            "style": "IPY_MODEL_cc5a4e6cc76f48e9989a0cd2ecfe65d3",
            "value": 4422102
          }
        },
        "cacb555cc7164bb69e901cb1d85a72fa": {
          "model_module": "@jupyter-widgets/controls",
          "model_name": "HTMLModel",
          "model_module_version": "1.5.0",
          "state": {
            "_dom_classes": [],
            "_model_module": "@jupyter-widgets/controls",
            "_model_module_version": "1.5.0",
            "_model_name": "HTMLModel",
            "_view_count": null,
            "_view_module": "@jupyter-widgets/controls",
            "_view_module_version": "1.5.0",
            "_view_name": "HTMLView",
            "description": "",
            "description_tooltip": null,
            "layout": "IPY_MODEL_caae082eeb9844c9bce5cfcf0a852b9c",
            "placeholder": "​",
            "style": "IPY_MODEL_274191754911488c9996b9f3ee7f2646",
            "value": " 4422102/4422102 [00:00&lt;00:00, 58946331.70it/s]"
          }
        },
        "8c15757babc24081b873952170e4738f": {
          "model_module": "@jupyter-widgets/base",
          "model_name": "LayoutModel",
          "model_module_version": "1.2.0",
          "state": {
            "_model_module": "@jupyter-widgets/base",
            "_model_module_version": "1.2.0",
            "_model_name": "LayoutModel",
            "_view_count": null,
            "_view_module": "@jupyter-widgets/base",
            "_view_module_version": "1.2.0",
            "_view_name": "LayoutView",
            "align_content": null,
            "align_items": null,
            "align_self": null,
            "border": null,
            "bottom": null,
            "display": null,
            "flex": null,
            "flex_flow": null,
            "grid_area": null,
            "grid_auto_columns": null,
            "grid_auto_flow": null,
            "grid_auto_rows": null,
            "grid_column": null,
            "grid_gap": null,
            "grid_row": null,
            "grid_template_areas": null,
            "grid_template_columns": null,
            "grid_template_rows": null,
            "height": null,
            "justify_content": null,
            "justify_items": null,
            "left": null,
            "margin": null,
            "max_height": null,
            "max_width": null,
            "min_height": null,
            "min_width": null,
            "object_fit": null,
            "object_position": null,
            "order": null,
            "overflow": null,
            "overflow_x": null,
            "overflow_y": null,
            "padding": null,
            "right": null,
            "top": null,
            "visibility": null,
            "width": null
          }
        },
        "5501400192fa40de876b802d1f111b3d": {
          "model_module": "@jupyter-widgets/base",
          "model_name": "LayoutModel",
          "model_module_version": "1.2.0",
          "state": {
            "_model_module": "@jupyter-widgets/base",
            "_model_module_version": "1.2.0",
            "_model_name": "LayoutModel",
            "_view_count": null,
            "_view_module": "@jupyter-widgets/base",
            "_view_module_version": "1.2.0",
            "_view_name": "LayoutView",
            "align_content": null,
            "align_items": null,
            "align_self": null,
            "border": null,
            "bottom": null,
            "display": null,
            "flex": null,
            "flex_flow": null,
            "grid_area": null,
            "grid_auto_columns": null,
            "grid_auto_flow": null,
            "grid_auto_rows": null,
            "grid_column": null,
            "grid_gap": null,
            "grid_row": null,
            "grid_template_areas": null,
            "grid_template_columns": null,
            "grid_template_rows": null,
            "height": null,
            "justify_content": null,
            "justify_items": null,
            "left": null,
            "margin": null,
            "max_height": null,
            "max_width": null,
            "min_height": null,
            "min_width": null,
            "object_fit": null,
            "object_position": null,
            "order": null,
            "overflow": null,
            "overflow_x": null,
            "overflow_y": null,
            "padding": null,
            "right": null,
            "top": null,
            "visibility": null,
            "width": null
          }
        },
        "c84deef0f53e451a862c2724fe31e4c2": {
          "model_module": "@jupyter-widgets/controls",
          "model_name": "DescriptionStyleModel",
          "model_module_version": "1.5.0",
          "state": {
            "_model_module": "@jupyter-widgets/controls",
            "_model_module_version": "1.5.0",
            "_model_name": "DescriptionStyleModel",
            "_view_count": null,
            "_view_module": "@jupyter-widgets/base",
            "_view_module_version": "1.2.0",
            "_view_name": "StyleView",
            "description_width": ""
          }
        },
        "2712a94021354bef9ad8ce96465ffcee": {
          "model_module": "@jupyter-widgets/base",
          "model_name": "LayoutModel",
          "model_module_version": "1.2.0",
          "state": {
            "_model_module": "@jupyter-widgets/base",
            "_model_module_version": "1.2.0",
            "_model_name": "LayoutModel",
            "_view_count": null,
            "_view_module": "@jupyter-widgets/base",
            "_view_module_version": "1.2.0",
            "_view_name": "LayoutView",
            "align_content": null,
            "align_items": null,
            "align_self": null,
            "border": null,
            "bottom": null,
            "display": null,
            "flex": null,
            "flex_flow": null,
            "grid_area": null,
            "grid_auto_columns": null,
            "grid_auto_flow": null,
            "grid_auto_rows": null,
            "grid_column": null,
            "grid_gap": null,
            "grid_row": null,
            "grid_template_areas": null,
            "grid_template_columns": null,
            "grid_template_rows": null,
            "height": null,
            "justify_content": null,
            "justify_items": null,
            "left": null,
            "margin": null,
            "max_height": null,
            "max_width": null,
            "min_height": null,
            "min_width": null,
            "object_fit": null,
            "object_position": null,
            "order": null,
            "overflow": null,
            "overflow_x": null,
            "overflow_y": null,
            "padding": null,
            "right": null,
            "top": null,
            "visibility": null,
            "width": null
          }
        },
        "cc5a4e6cc76f48e9989a0cd2ecfe65d3": {
          "model_module": "@jupyter-widgets/controls",
          "model_name": "ProgressStyleModel",
          "model_module_version": "1.5.0",
          "state": {
            "_model_module": "@jupyter-widgets/controls",
            "_model_module_version": "1.5.0",
            "_model_name": "ProgressStyleModel",
            "_view_count": null,
            "_view_module": "@jupyter-widgets/base",
            "_view_module_version": "1.2.0",
            "_view_name": "StyleView",
            "bar_color": null,
            "description_width": ""
          }
        },
        "caae082eeb9844c9bce5cfcf0a852b9c": {
          "model_module": "@jupyter-widgets/base",
          "model_name": "LayoutModel",
          "model_module_version": "1.2.0",
          "state": {
            "_model_module": "@jupyter-widgets/base",
            "_model_module_version": "1.2.0",
            "_model_name": "LayoutModel",
            "_view_count": null,
            "_view_module": "@jupyter-widgets/base",
            "_view_module_version": "1.2.0",
            "_view_name": "LayoutView",
            "align_content": null,
            "align_items": null,
            "align_self": null,
            "border": null,
            "bottom": null,
            "display": null,
            "flex": null,
            "flex_flow": null,
            "grid_area": null,
            "grid_auto_columns": null,
            "grid_auto_flow": null,
            "grid_auto_rows": null,
            "grid_column": null,
            "grid_gap": null,
            "grid_row": null,
            "grid_template_areas": null,
            "grid_template_columns": null,
            "grid_template_rows": null,
            "height": null,
            "justify_content": null,
            "justify_items": null,
            "left": null,
            "margin": null,
            "max_height": null,
            "max_width": null,
            "min_height": null,
            "min_width": null,
            "object_fit": null,
            "object_position": null,
            "order": null,
            "overflow": null,
            "overflow_x": null,
            "overflow_y": null,
            "padding": null,
            "right": null,
            "top": null,
            "visibility": null,
            "width": null
          }
        },
        "274191754911488c9996b9f3ee7f2646": {
          "model_module": "@jupyter-widgets/controls",
          "model_name": "DescriptionStyleModel",
          "model_module_version": "1.5.0",
          "state": {
            "_model_module": "@jupyter-widgets/controls",
            "_model_module_version": "1.5.0",
            "_model_name": "DescriptionStyleModel",
            "_view_count": null,
            "_view_module": "@jupyter-widgets/base",
            "_view_module_version": "1.2.0",
            "_view_name": "StyleView",
            "description_width": ""
          }
        },
        "a37f972b2a0a46df9dd78b9728ba600c": {
          "model_module": "@jupyter-widgets/controls",
          "model_name": "HBoxModel",
          "model_module_version": "1.5.0",
          "state": {
            "_dom_classes": [],
            "_model_module": "@jupyter-widgets/controls",
            "_model_module_version": "1.5.0",
            "_model_name": "HBoxModel",
            "_view_count": null,
            "_view_module": "@jupyter-widgets/controls",
            "_view_module_version": "1.5.0",
            "_view_name": "HBoxView",
            "box_style": "",
            "children": [
              "IPY_MODEL_d5a3ec20d7584649b527a41b34bb83b3",
              "IPY_MODEL_17bc30e2275643fe9a8523264b9be231",
              "IPY_MODEL_50c70e65d0614da1a7412ec41a9e2e84"
            ],
            "layout": "IPY_MODEL_67f169aab1ed453ab704a1755a08a798"
          }
        },
        "d5a3ec20d7584649b527a41b34bb83b3": {
          "model_module": "@jupyter-widgets/controls",
          "model_name": "HTMLModel",
          "model_module_version": "1.5.0",
          "state": {
            "_dom_classes": [],
            "_model_module": "@jupyter-widgets/controls",
            "_model_module_version": "1.5.0",
            "_model_name": "HTMLModel",
            "_view_count": null,
            "_view_module": "@jupyter-widgets/controls",
            "_view_module_version": "1.5.0",
            "_view_name": "HTMLView",
            "description": "",
            "description_tooltip": null,
            "layout": "IPY_MODEL_6b8329e4cf564e3eaf0d240acd3e75c8",
            "placeholder": "​",
            "style": "IPY_MODEL_309472800b20418db61d5116028b908c",
            "value": "100%"
          }
        },
        "17bc30e2275643fe9a8523264b9be231": {
          "model_module": "@jupyter-widgets/controls",
          "model_name": "FloatProgressModel",
          "model_module_version": "1.5.0",
          "state": {
            "_dom_classes": [],
            "_model_module": "@jupyter-widgets/controls",
            "_model_module_version": "1.5.0",
            "_model_name": "FloatProgressModel",
            "_view_count": null,
            "_view_module": "@jupyter-widgets/controls",
            "_view_module_version": "1.5.0",
            "_view_name": "ProgressView",
            "bar_style": "success",
            "description": "",
            "description_tooltip": null,
            "layout": "IPY_MODEL_5c5003678d744686a242506c20e1198c",
            "max": 5148,
            "min": 0,
            "orientation": "horizontal",
            "style": "IPY_MODEL_725982be5a5e495daa63def7f131025a",
            "value": 5148
          }
        },
        "50c70e65d0614da1a7412ec41a9e2e84": {
          "model_module": "@jupyter-widgets/controls",
          "model_name": "HTMLModel",
          "model_module_version": "1.5.0",
          "state": {
            "_dom_classes": [],
            "_model_module": "@jupyter-widgets/controls",
            "_model_module_version": "1.5.0",
            "_model_name": "HTMLModel",
            "_view_count": null,
            "_view_module": "@jupyter-widgets/controls",
            "_view_module_version": "1.5.0",
            "_view_name": "HTMLView",
            "description": "",
            "description_tooltip": null,
            "layout": "IPY_MODEL_4034d55717f24f6d945df32e41a3a1e8",
            "placeholder": "​",
            "style": "IPY_MODEL_3508e473e683431fba1873e7d16dee9c",
            "value": " 5148/5148 [00:00&lt;00:00, 311069.64it/s]"
          }
        },
        "67f169aab1ed453ab704a1755a08a798": {
          "model_module": "@jupyter-widgets/base",
          "model_name": "LayoutModel",
          "model_module_version": "1.2.0",
          "state": {
            "_model_module": "@jupyter-widgets/base",
            "_model_module_version": "1.2.0",
            "_model_name": "LayoutModel",
            "_view_count": null,
            "_view_module": "@jupyter-widgets/base",
            "_view_module_version": "1.2.0",
            "_view_name": "LayoutView",
            "align_content": null,
            "align_items": null,
            "align_self": null,
            "border": null,
            "bottom": null,
            "display": null,
            "flex": null,
            "flex_flow": null,
            "grid_area": null,
            "grid_auto_columns": null,
            "grid_auto_flow": null,
            "grid_auto_rows": null,
            "grid_column": null,
            "grid_gap": null,
            "grid_row": null,
            "grid_template_areas": null,
            "grid_template_columns": null,
            "grid_template_rows": null,
            "height": null,
            "justify_content": null,
            "justify_items": null,
            "left": null,
            "margin": null,
            "max_height": null,
            "max_width": null,
            "min_height": null,
            "min_width": null,
            "object_fit": null,
            "object_position": null,
            "order": null,
            "overflow": null,
            "overflow_x": null,
            "overflow_y": null,
            "padding": null,
            "right": null,
            "top": null,
            "visibility": null,
            "width": null
          }
        },
        "6b8329e4cf564e3eaf0d240acd3e75c8": {
          "model_module": "@jupyter-widgets/base",
          "model_name": "LayoutModel",
          "model_module_version": "1.2.0",
          "state": {
            "_model_module": "@jupyter-widgets/base",
            "_model_module_version": "1.2.0",
            "_model_name": "LayoutModel",
            "_view_count": null,
            "_view_module": "@jupyter-widgets/base",
            "_view_module_version": "1.2.0",
            "_view_name": "LayoutView",
            "align_content": null,
            "align_items": null,
            "align_self": null,
            "border": null,
            "bottom": null,
            "display": null,
            "flex": null,
            "flex_flow": null,
            "grid_area": null,
            "grid_auto_columns": null,
            "grid_auto_flow": null,
            "grid_auto_rows": null,
            "grid_column": null,
            "grid_gap": null,
            "grid_row": null,
            "grid_template_areas": null,
            "grid_template_columns": null,
            "grid_template_rows": null,
            "height": null,
            "justify_content": null,
            "justify_items": null,
            "left": null,
            "margin": null,
            "max_height": null,
            "max_width": null,
            "min_height": null,
            "min_width": null,
            "object_fit": null,
            "object_position": null,
            "order": null,
            "overflow": null,
            "overflow_x": null,
            "overflow_y": null,
            "padding": null,
            "right": null,
            "top": null,
            "visibility": null,
            "width": null
          }
        },
        "309472800b20418db61d5116028b908c": {
          "model_module": "@jupyter-widgets/controls",
          "model_name": "DescriptionStyleModel",
          "model_module_version": "1.5.0",
          "state": {
            "_model_module": "@jupyter-widgets/controls",
            "_model_module_version": "1.5.0",
            "_model_name": "DescriptionStyleModel",
            "_view_count": null,
            "_view_module": "@jupyter-widgets/base",
            "_view_module_version": "1.2.0",
            "_view_name": "StyleView",
            "description_width": ""
          }
        },
        "5c5003678d744686a242506c20e1198c": {
          "model_module": "@jupyter-widgets/base",
          "model_name": "LayoutModel",
          "model_module_version": "1.2.0",
          "state": {
            "_model_module": "@jupyter-widgets/base",
            "_model_module_version": "1.2.0",
            "_model_name": "LayoutModel",
            "_view_count": null,
            "_view_module": "@jupyter-widgets/base",
            "_view_module_version": "1.2.0",
            "_view_name": "LayoutView",
            "align_content": null,
            "align_items": null,
            "align_self": null,
            "border": null,
            "bottom": null,
            "display": null,
            "flex": null,
            "flex_flow": null,
            "grid_area": null,
            "grid_auto_columns": null,
            "grid_auto_flow": null,
            "grid_auto_rows": null,
            "grid_column": null,
            "grid_gap": null,
            "grid_row": null,
            "grid_template_areas": null,
            "grid_template_columns": null,
            "grid_template_rows": null,
            "height": null,
            "justify_content": null,
            "justify_items": null,
            "left": null,
            "margin": null,
            "max_height": null,
            "max_width": null,
            "min_height": null,
            "min_width": null,
            "object_fit": null,
            "object_position": null,
            "order": null,
            "overflow": null,
            "overflow_x": null,
            "overflow_y": null,
            "padding": null,
            "right": null,
            "top": null,
            "visibility": null,
            "width": null
          }
        },
        "725982be5a5e495daa63def7f131025a": {
          "model_module": "@jupyter-widgets/controls",
          "model_name": "ProgressStyleModel",
          "model_module_version": "1.5.0",
          "state": {
            "_model_module": "@jupyter-widgets/controls",
            "_model_module_version": "1.5.0",
            "_model_name": "ProgressStyleModel",
            "_view_count": null,
            "_view_module": "@jupyter-widgets/base",
            "_view_module_version": "1.2.0",
            "_view_name": "StyleView",
            "bar_color": null,
            "description_width": ""
          }
        },
        "4034d55717f24f6d945df32e41a3a1e8": {
          "model_module": "@jupyter-widgets/base",
          "model_name": "LayoutModel",
          "model_module_version": "1.2.0",
          "state": {
            "_model_module": "@jupyter-widgets/base",
            "_model_module_version": "1.2.0",
            "_model_name": "LayoutModel",
            "_view_count": null,
            "_view_module": "@jupyter-widgets/base",
            "_view_module_version": "1.2.0",
            "_view_name": "LayoutView",
            "align_content": null,
            "align_items": null,
            "align_self": null,
            "border": null,
            "bottom": null,
            "display": null,
            "flex": null,
            "flex_flow": null,
            "grid_area": null,
            "grid_auto_columns": null,
            "grid_auto_flow": null,
            "grid_auto_rows": null,
            "grid_column": null,
            "grid_gap": null,
            "grid_row": null,
            "grid_template_areas": null,
            "grid_template_columns": null,
            "grid_template_rows": null,
            "height": null,
            "justify_content": null,
            "justify_items": null,
            "left": null,
            "margin": null,
            "max_height": null,
            "max_width": null,
            "min_height": null,
            "min_width": null,
            "object_fit": null,
            "object_position": null,
            "order": null,
            "overflow": null,
            "overflow_x": null,
            "overflow_y": null,
            "padding": null,
            "right": null,
            "top": null,
            "visibility": null,
            "width": null
          }
        },
        "3508e473e683431fba1873e7d16dee9c": {
          "model_module": "@jupyter-widgets/controls",
          "model_name": "DescriptionStyleModel",
          "model_module_version": "1.5.0",
          "state": {
            "_model_module": "@jupyter-widgets/controls",
            "_model_module_version": "1.5.0",
            "_model_name": "DescriptionStyleModel",
            "_view_count": null,
            "_view_module": "@jupyter-widgets/base",
            "_view_module_version": "1.2.0",
            "_view_name": "StyleView",
            "description_width": ""
          }
        }
      }
    }
  },
  "nbformat": 4,
  "nbformat_minor": 0
}