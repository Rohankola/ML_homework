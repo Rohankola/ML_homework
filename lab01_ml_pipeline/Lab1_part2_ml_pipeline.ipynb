{
 "cells": [
  {
   "cell_type": "markdown",
   "metadata": {
    "nbgrader": {
     "grade": false,
     "grade_id": "cell-86e0de040aac317a",
     "locked": true,
     "schema_version": 2,
     "solution": false
    }
   },
   "source": [
    "# Lab assignment №1, part 2\n",
    "\n",
    "This lab assignment consists of several parts. You are supposed to make some transformations, train some models, estimate the quality of the models and explain your results.\n",
    "\n",
    "Several comments:\n",
    "* Don't hesitate to ask questions, it's a good practice.\n",
    "* No private/public sharing, please. The copied assignments will be graded with 0 points.\n",
    "* Blocks of this lab will be graded separately."
   ]
  },
  {
   "cell_type": "markdown",
   "metadata": {},
   "source": [
    "__*This is the second part of the assignment. First and third parts are waiting for you in the same directory.*__"
   ]
  },
  {
   "cell_type": "markdown",
   "metadata": {
    "nbgrader": {
     "grade": false,
     "grade_id": "cell-512ba712fc0fc065",
     "locked": true,
     "schema_version": 2,
     "solution": false
    }
   },
   "source": [
    "## Part 2. Data preprocessing, model training and evaluation."
   ]
  },
  {
   "cell_type": "markdown",
   "metadata": {
    "nbgrader": {
     "grade": false,
     "grade_id": "cell-b656a4266174b009",
     "locked": true,
     "schema_version": 2,
     "solution": false
    }
   },
   "source": [
    "### 1. Reading the data\n",
    "Today we work with the [dataset](https://archive.ics.uci.edu/ml/datasets/Statlog+%28Vehicle+Silhouettes%29), describing different cars for multiclass ($k=4$) classification problem. The data is available below."
   ]
  },
  {
   "cell_type": "code",
   "execution_count": 94,
   "metadata": {},
   "outputs": [],
   "source": [
    "# If on colab, uncomment the following lines\n",
    "\n",
    "# ! wget https://raw.githubusercontent.com/girafe-ai/ml-course/22f_made/homeworks/lab01_ml_pipeline/car_data.csv"
   ]
  },
  {
   "cell_type": "code",
   "execution_count": 95,
   "metadata": {
    "nbgrader": {
     "grade": false,
     "grade_id": "cell-eebac6bfdf73d0bc",
     "locked": true,
     "schema_version": 2,
     "solution": false
    }
   },
   "outputs": [
    {
     "name": "stdout",
     "output_type": "stream",
     "text": [
      "(846, 19) (846,)\n",
      "(549, 19) (549,) (297, 19) (297,)\n"
     ]
    }
   ],
   "source": [
    "import pandas as pd\n",
    "import numpy as np\n",
    "from sklearn.model_selection import train_test_split\n",
    "\n",
    "dataset = pd.read_csv('car_data.csv', delimiter=',', header=None).values\n",
    "data = dataset[:, :-1].astype(int)\n",
    "target = dataset[:, -1]\n",
    "\n",
    "print(data.shape, target.shape)\n",
    "\n",
    "X_train, X_test, y_train, y_test = train_test_split(data, target, test_size=0.35)\n",
    "print(X_train.shape, y_train.shape, X_test.shape, y_test.shape)"
   ]
  },
  {
   "cell_type": "markdown",
   "metadata": {
    "nbgrader": {
     "grade": false,
     "grade_id": "cell-88b1a0f688568f2c",
     "locked": true,
     "schema_version": 2,
     "solution": false
    }
   },
   "source": [
    "To get some insights about the dataset, `pandas` might be used. The `train` part is transformed to `pd.DataFrame` below."
   ]
  },
  {
   "cell_type": "code",
   "execution_count": 96,
   "metadata": {},
   "outputs": [
    {
     "data": {
      "text/html": [
       "<div>\n",
       "<style scoped>\n",
       "    .dataframe tbody tr th:only-of-type {\n",
       "        vertical-align: middle;\n",
       "    }\n",
       "\n",
       "    .dataframe tbody tr th {\n",
       "        vertical-align: top;\n",
       "    }\n",
       "\n",
       "    .dataframe thead th {\n",
       "        text-align: right;\n",
       "    }\n",
       "</style>\n",
       "<table border=\"1\" class=\"dataframe\">\n",
       "  <thead>\n",
       "    <tr style=\"text-align: right;\">\n",
       "      <th></th>\n",
       "      <th>0</th>\n",
       "      <th>1</th>\n",
       "      <th>2</th>\n",
       "      <th>3</th>\n",
       "      <th>4</th>\n",
       "      <th>5</th>\n",
       "      <th>6</th>\n",
       "      <th>7</th>\n",
       "      <th>8</th>\n",
       "      <th>9</th>\n",
       "      <th>10</th>\n",
       "      <th>11</th>\n",
       "      <th>12</th>\n",
       "      <th>13</th>\n",
       "      <th>14</th>\n",
       "      <th>15</th>\n",
       "      <th>16</th>\n",
       "      <th>17</th>\n",
       "      <th>18</th>\n",
       "    </tr>\n",
       "  </thead>\n",
       "  <tbody>\n",
       "    <tr>\n",
       "      <th>0</th>\n",
       "      <td>171</td>\n",
       "      <td>106</td>\n",
       "      <td>54</td>\n",
       "      <td>103</td>\n",
       "      <td>161</td>\n",
       "      <td>47</td>\n",
       "      <td>4</td>\n",
       "      <td>247</td>\n",
       "      <td>27</td>\n",
       "      <td>27</td>\n",
       "      <td>166</td>\n",
       "      <td>266</td>\n",
       "      <td>892</td>\n",
       "      <td>242</td>\n",
       "      <td>85</td>\n",
       "      <td>4</td>\n",
       "      <td>11</td>\n",
       "      <td>181</td>\n",
       "      <td>183</td>\n",
       "    </tr>\n",
       "    <tr>\n",
       "      <th>1</th>\n",
       "      <td>581</td>\n",
       "      <td>89</td>\n",
       "      <td>36</td>\n",
       "      <td>68</td>\n",
       "      <td>141</td>\n",
       "      <td>59</td>\n",
       "      <td>8</td>\n",
       "      <td>139</td>\n",
       "      <td>47</td>\n",
       "      <td>18</td>\n",
       "      <td>130</td>\n",
       "      <td>166</td>\n",
       "      <td>291</td>\n",
       "      <td>127</td>\n",
       "      <td>73</td>\n",
       "      <td>7</td>\n",
       "      <td>1</td>\n",
       "      <td>189</td>\n",
       "      <td>196</td>\n",
       "    </tr>\n",
       "    <tr>\n",
       "      <th>2</th>\n",
       "      <td>711</td>\n",
       "      <td>100</td>\n",
       "      <td>54</td>\n",
       "      <td>102</td>\n",
       "      <td>206</td>\n",
       "      <td>65</td>\n",
       "      <td>10</td>\n",
       "      <td>198</td>\n",
       "      <td>33</td>\n",
       "      <td>23</td>\n",
       "      <td>164</td>\n",
       "      <td>224</td>\n",
       "      <td>587</td>\n",
       "      <td>240</td>\n",
       "      <td>72</td>\n",
       "      <td>4</td>\n",
       "      <td>11</td>\n",
       "      <td>187</td>\n",
       "      <td>196</td>\n",
       "    </tr>\n",
       "    <tr>\n",
       "      <th>3</th>\n",
       "      <td>664</td>\n",
       "      <td>90</td>\n",
       "      <td>43</td>\n",
       "      <td>72</td>\n",
       "      <td>157</td>\n",
       "      <td>64</td>\n",
       "      <td>8</td>\n",
       "      <td>136</td>\n",
       "      <td>49</td>\n",
       "      <td>18</td>\n",
       "      <td>145</td>\n",
       "      <td>158</td>\n",
       "      <td>279</td>\n",
       "      <td>167</td>\n",
       "      <td>64</td>\n",
       "      <td>4</td>\n",
       "      <td>6</td>\n",
       "      <td>201</td>\n",
       "      <td>209</td>\n",
       "    </tr>\n",
       "    <tr>\n",
       "      <th>4</th>\n",
       "      <td>663</td>\n",
       "      <td>89</td>\n",
       "      <td>47</td>\n",
       "      <td>83</td>\n",
       "      <td>169</td>\n",
       "      <td>61</td>\n",
       "      <td>8</td>\n",
       "      <td>164</td>\n",
       "      <td>40</td>\n",
       "      <td>20</td>\n",
       "      <td>150</td>\n",
       "      <td>189</td>\n",
       "      <td>402</td>\n",
       "      <td>190</td>\n",
       "      <td>72</td>\n",
       "      <td>7</td>\n",
       "      <td>10</td>\n",
       "      <td>187</td>\n",
       "      <td>193</td>\n",
       "    </tr>\n",
       "    <tr>\n",
       "      <th>5</th>\n",
       "      <td>152</td>\n",
       "      <td>93</td>\n",
       "      <td>35</td>\n",
       "      <td>72</td>\n",
       "      <td>172</td>\n",
       "      <td>62</td>\n",
       "      <td>7</td>\n",
       "      <td>149</td>\n",
       "      <td>44</td>\n",
       "      <td>19</td>\n",
       "      <td>124</td>\n",
       "      <td>169</td>\n",
       "      <td>334</td>\n",
       "      <td>125</td>\n",
       "      <td>62</td>\n",
       "      <td>5</td>\n",
       "      <td>30</td>\n",
       "      <td>203</td>\n",
       "      <td>210</td>\n",
       "    </tr>\n",
       "    <tr>\n",
       "      <th>6</th>\n",
       "      <td>550</td>\n",
       "      <td>86</td>\n",
       "      <td>38</td>\n",
       "      <td>58</td>\n",
       "      <td>119</td>\n",
       "      <td>56</td>\n",
       "      <td>4</td>\n",
       "      <td>118</td>\n",
       "      <td>57</td>\n",
       "      <td>17</td>\n",
       "      <td>129</td>\n",
       "      <td>140</td>\n",
       "      <td>208</td>\n",
       "      <td>152</td>\n",
       "      <td>78</td>\n",
       "      <td>9</td>\n",
       "      <td>2</td>\n",
       "      <td>184</td>\n",
       "      <td>186</td>\n",
       "    </tr>\n",
       "    <tr>\n",
       "      <th>7</th>\n",
       "      <td>234</td>\n",
       "      <td>93</td>\n",
       "      <td>42</td>\n",
       "      <td>64</td>\n",
       "      <td>158</td>\n",
       "      <td>68</td>\n",
       "      <td>9</td>\n",
       "      <td>134</td>\n",
       "      <td>49</td>\n",
       "      <td>18</td>\n",
       "      <td>142</td>\n",
       "      <td>163</td>\n",
       "      <td>268</td>\n",
       "      <td>170</td>\n",
       "      <td>71</td>\n",
       "      <td>7</td>\n",
       "      <td>13</td>\n",
       "      <td>192</td>\n",
       "      <td>201</td>\n",
       "    </tr>\n",
       "    <tr>\n",
       "      <th>8</th>\n",
       "      <td>268</td>\n",
       "      <td>86</td>\n",
       "      <td>39</td>\n",
       "      <td>60</td>\n",
       "      <td>140</td>\n",
       "      <td>60</td>\n",
       "      <td>7</td>\n",
       "      <td>119</td>\n",
       "      <td>55</td>\n",
       "      <td>17</td>\n",
       "      <td>134</td>\n",
       "      <td>140</td>\n",
       "      <td>212</td>\n",
       "      <td>141</td>\n",
       "      <td>61</td>\n",
       "      <td>7</td>\n",
       "      <td>8</td>\n",
       "      <td>200</td>\n",
       "      <td>207</td>\n",
       "    </tr>\n",
       "    <tr>\n",
       "      <th>9</th>\n",
       "      <td>206</td>\n",
       "      <td>92</td>\n",
       "      <td>46</td>\n",
       "      <td>79</td>\n",
       "      <td>176</td>\n",
       "      <td>64</td>\n",
       "      <td>8</td>\n",
       "      <td>162</td>\n",
       "      <td>41</td>\n",
       "      <td>20</td>\n",
       "      <td>149</td>\n",
       "      <td>183</td>\n",
       "      <td>396</td>\n",
       "      <td>178</td>\n",
       "      <td>67</td>\n",
       "      <td>2</td>\n",
       "      <td>10</td>\n",
       "      <td>191</td>\n",
       "      <td>198</td>\n",
       "    </tr>\n",
       "    <tr>\n",
       "      <th>10</th>\n",
       "      <td>61</td>\n",
       "      <td>77</td>\n",
       "      <td>38</td>\n",
       "      <td>63</td>\n",
       "      <td>135</td>\n",
       "      <td>59</td>\n",
       "      <td>5</td>\n",
       "      <td>130</td>\n",
       "      <td>52</td>\n",
       "      <td>18</td>\n",
       "      <td>130</td>\n",
       "      <td>145</td>\n",
       "      <td>247</td>\n",
       "      <td>139</td>\n",
       "      <td>79</td>\n",
       "      <td>13</td>\n",
       "      <td>21</td>\n",
       "      <td>183</td>\n",
       "      <td>187</td>\n",
       "    </tr>\n",
       "    <tr>\n",
       "      <th>11</th>\n",
       "      <td>260</td>\n",
       "      <td>83</td>\n",
       "      <td>37</td>\n",
       "      <td>54</td>\n",
       "      <td>118</td>\n",
       "      <td>55</td>\n",
       "      <td>4</td>\n",
       "      <td>129</td>\n",
       "      <td>52</td>\n",
       "      <td>18</td>\n",
       "      <td>127</td>\n",
       "      <td>146</td>\n",
       "      <td>245</td>\n",
       "      <td>140</td>\n",
       "      <td>81</td>\n",
       "      <td>4</td>\n",
       "      <td>13</td>\n",
       "      <td>180</td>\n",
       "      <td>184</td>\n",
       "    </tr>\n",
       "    <tr>\n",
       "      <th>12</th>\n",
       "      <td>280</td>\n",
       "      <td>100</td>\n",
       "      <td>44</td>\n",
       "      <td>93</td>\n",
       "      <td>193</td>\n",
       "      <td>62</td>\n",
       "      <td>8</td>\n",
       "      <td>186</td>\n",
       "      <td>35</td>\n",
       "      <td>22</td>\n",
       "      <td>147</td>\n",
       "      <td>202</td>\n",
       "      <td>521</td>\n",
       "      <td>151</td>\n",
       "      <td>66</td>\n",
       "      <td>0</td>\n",
       "      <td>2</td>\n",
       "      <td>193</td>\n",
       "      <td>198</td>\n",
       "    </tr>\n",
       "    <tr>\n",
       "      <th>13</th>\n",
       "      <td>799</td>\n",
       "      <td>92</td>\n",
       "      <td>39</td>\n",
       "      <td>76</td>\n",
       "      <td>180</td>\n",
       "      <td>71</td>\n",
       "      <td>6</td>\n",
       "      <td>152</td>\n",
       "      <td>43</td>\n",
       "      <td>19</td>\n",
       "      <td>131</td>\n",
       "      <td>179</td>\n",
       "      <td>350</td>\n",
       "      <td>143</td>\n",
       "      <td>72</td>\n",
       "      <td>6</td>\n",
       "      <td>14</td>\n",
       "      <td>195</td>\n",
       "      <td>200</td>\n",
       "    </tr>\n",
       "    <tr>\n",
       "      <th>14</th>\n",
       "      <td>341</td>\n",
       "      <td>86</td>\n",
       "      <td>40</td>\n",
       "      <td>75</td>\n",
       "      <td>146</td>\n",
       "      <td>62</td>\n",
       "      <td>6</td>\n",
       "      <td>140</td>\n",
       "      <td>48</td>\n",
       "      <td>18</td>\n",
       "      <td>135</td>\n",
       "      <td>158</td>\n",
       "      <td>290</td>\n",
       "      <td>162</td>\n",
       "      <td>72</td>\n",
       "      <td>3</td>\n",
       "      <td>21</td>\n",
       "      <td>183</td>\n",
       "      <td>190</td>\n",
       "    </tr>\n",
       "  </tbody>\n",
       "</table>\n",
       "</div>"
      ],
      "text/plain": [
       "      0    1   2    3    4   5   6    7   8   9   10   11   12   13  14  15  \\\n",
       "0   171  106  54  103  161  47   4  247  27  27  166  266  892  242  85   4   \n",
       "1   581   89  36   68  141  59   8  139  47  18  130  166  291  127  73   7   \n",
       "2   711  100  54  102  206  65  10  198  33  23  164  224  587  240  72   4   \n",
       "3   664   90  43   72  157  64   8  136  49  18  145  158  279  167  64   4   \n",
       "4   663   89  47   83  169  61   8  164  40  20  150  189  402  190  72   7   \n",
       "5   152   93  35   72  172  62   7  149  44  19  124  169  334  125  62   5   \n",
       "6   550   86  38   58  119  56   4  118  57  17  129  140  208  152  78   9   \n",
       "7   234   93  42   64  158  68   9  134  49  18  142  163  268  170  71   7   \n",
       "8   268   86  39   60  140  60   7  119  55  17  134  140  212  141  61   7   \n",
       "9   206   92  46   79  176  64   8  162  41  20  149  183  396  178  67   2   \n",
       "10   61   77  38   63  135  59   5  130  52  18  130  145  247  139  79  13   \n",
       "11  260   83  37   54  118  55   4  129  52  18  127  146  245  140  81   4   \n",
       "12  280  100  44   93  193  62   8  186  35  22  147  202  521  151  66   0   \n",
       "13  799   92  39   76  180  71   6  152  43  19  131  179  350  143  72   6   \n",
       "14  341   86  40   75  146  62   6  140  48  18  135  158  290  162  72   3   \n",
       "\n",
       "    16   17   18  \n",
       "0   11  181  183  \n",
       "1    1  189  196  \n",
       "2   11  187  196  \n",
       "3    6  201  209  \n",
       "4   10  187  193  \n",
       "5   30  203  210  \n",
       "6    2  184  186  \n",
       "7   13  192  201  \n",
       "8    8  200  207  \n",
       "9   10  191  198  \n",
       "10  21  183  187  \n",
       "11  13  180  184  \n",
       "12   2  193  198  \n",
       "13  14  195  200  \n",
       "14  21  183  190  "
      ]
     },
     "execution_count": 96,
     "metadata": {},
     "output_type": "execute_result"
    }
   ],
   "source": [
    "X_train_pd = pd.DataFrame(X_train)\n",
    "\n",
    "# First 15 rows of our dataset.\n",
    "X_train_pd.head(15)"
   ]
  },
  {
   "cell_type": "markdown",
   "metadata": {
    "nbgrader": {
     "grade": false,
     "grade_id": "cell-98e7d91d77d65fcf",
     "locked": true,
     "schema_version": 2,
     "solution": false
    }
   },
   "source": [
    "Methods `describe` and `info` deliver some useful information."
   ]
  },
  {
   "cell_type": "code",
   "execution_count": 97,
   "metadata": {},
   "outputs": [
    {
     "data": {
      "text/html": [
       "<div>\n",
       "<style scoped>\n",
       "    .dataframe tbody tr th:only-of-type {\n",
       "        vertical-align: middle;\n",
       "    }\n",
       "\n",
       "    .dataframe tbody tr th {\n",
       "        vertical-align: top;\n",
       "    }\n",
       "\n",
       "    .dataframe thead th {\n",
       "        text-align: right;\n",
       "    }\n",
       "</style>\n",
       "<table border=\"1\" class=\"dataframe\">\n",
       "  <thead>\n",
       "    <tr style=\"text-align: right;\">\n",
       "      <th></th>\n",
       "      <th>0</th>\n",
       "      <th>1</th>\n",
       "      <th>2</th>\n",
       "      <th>3</th>\n",
       "      <th>4</th>\n",
       "      <th>5</th>\n",
       "      <th>6</th>\n",
       "      <th>7</th>\n",
       "      <th>8</th>\n",
       "      <th>9</th>\n",
       "      <th>10</th>\n",
       "      <th>11</th>\n",
       "      <th>12</th>\n",
       "      <th>13</th>\n",
       "      <th>14</th>\n",
       "      <th>15</th>\n",
       "      <th>16</th>\n",
       "      <th>17</th>\n",
       "      <th>18</th>\n",
       "    </tr>\n",
       "  </thead>\n",
       "  <tbody>\n",
       "    <tr>\n",
       "      <th>count</th>\n",
       "      <td>549.000000</td>\n",
       "      <td>549.000000</td>\n",
       "      <td>549.000000</td>\n",
       "      <td>549.000000</td>\n",
       "      <td>549.000000</td>\n",
       "      <td>549.000000</td>\n",
       "      <td>549.000000</td>\n",
       "      <td>549.000000</td>\n",
       "      <td>549.000000</td>\n",
       "      <td>549.000000</td>\n",
       "      <td>549.000000</td>\n",
       "      <td>549.000000</td>\n",
       "      <td>549.000000</td>\n",
       "      <td>549.000000</td>\n",
       "      <td>549.000000</td>\n",
       "      <td>549.000000</td>\n",
       "      <td>549.000000</td>\n",
       "      <td>549.000000</td>\n",
       "      <td>549.00000</td>\n",
       "    </tr>\n",
       "    <tr>\n",
       "      <th>mean</th>\n",
       "      <td>417.712204</td>\n",
       "      <td>93.480874</td>\n",
       "      <td>44.794171</td>\n",
       "      <td>81.936248</td>\n",
       "      <td>168.710383</td>\n",
       "      <td>61.699454</td>\n",
       "      <td>8.601093</td>\n",
       "      <td>168.426230</td>\n",
       "      <td>40.965392</td>\n",
       "      <td>20.550091</td>\n",
       "      <td>147.626594</td>\n",
       "      <td>188.457195</td>\n",
       "      <td>437.510018</td>\n",
       "      <td>174.881603</td>\n",
       "      <td>72.562842</td>\n",
       "      <td>6.306011</td>\n",
       "      <td>12.275046</td>\n",
       "      <td>188.890710</td>\n",
       "      <td>195.61020</td>\n",
       "    </tr>\n",
       "    <tr>\n",
       "      <th>std</th>\n",
       "      <td>240.321282</td>\n",
       "      <td>8.153528</td>\n",
       "      <td>6.048427</td>\n",
       "      <td>15.734845</td>\n",
       "      <td>33.207129</td>\n",
       "      <td>7.631500</td>\n",
       "      <td>4.678269</td>\n",
       "      <td>32.516202</td>\n",
       "      <td>7.747891</td>\n",
       "      <td>2.522842</td>\n",
       "      <td>14.145390</td>\n",
       "      <td>30.713898</td>\n",
       "      <td>171.952395</td>\n",
       "      <td>32.131950</td>\n",
       "      <td>7.700019</td>\n",
       "      <td>4.759276</td>\n",
       "      <td>8.595690</td>\n",
       "      <td>6.180001</td>\n",
       "      <td>7.41627</td>\n",
       "    </tr>\n",
       "    <tr>\n",
       "      <th>min</th>\n",
       "      <td>0.000000</td>\n",
       "      <td>73.000000</td>\n",
       "      <td>33.000000</td>\n",
       "      <td>40.000000</td>\n",
       "      <td>104.000000</td>\n",
       "      <td>47.000000</td>\n",
       "      <td>2.000000</td>\n",
       "      <td>112.000000</td>\n",
       "      <td>26.000000</td>\n",
       "      <td>17.000000</td>\n",
       "      <td>118.000000</td>\n",
       "      <td>130.000000</td>\n",
       "      <td>184.000000</td>\n",
       "      <td>109.000000</td>\n",
       "      <td>59.000000</td>\n",
       "      <td>0.000000</td>\n",
       "      <td>0.000000</td>\n",
       "      <td>176.000000</td>\n",
       "      <td>182.00000</td>\n",
       "    </tr>\n",
       "    <tr>\n",
       "      <th>25%</th>\n",
       "      <td>216.000000</td>\n",
       "      <td>87.000000</td>\n",
       "      <td>40.000000</td>\n",
       "      <td>70.000000</td>\n",
       "      <td>141.000000</td>\n",
       "      <td>57.000000</td>\n",
       "      <td>7.000000</td>\n",
       "      <td>146.000000</td>\n",
       "      <td>33.000000</td>\n",
       "      <td>19.000000</td>\n",
       "      <td>137.000000</td>\n",
       "      <td>168.000000</td>\n",
       "      <td>319.000000</td>\n",
       "      <td>151.000000</td>\n",
       "      <td>67.000000</td>\n",
       "      <td>2.000000</td>\n",
       "      <td>5.000000</td>\n",
       "      <td>185.000000</td>\n",
       "      <td>190.00000</td>\n",
       "    </tr>\n",
       "    <tr>\n",
       "      <th>50%</th>\n",
       "      <td>419.000000</td>\n",
       "      <td>92.000000</td>\n",
       "      <td>44.000000</td>\n",
       "      <td>79.000000</td>\n",
       "      <td>168.000000</td>\n",
       "      <td>61.000000</td>\n",
       "      <td>8.000000</td>\n",
       "      <td>157.000000</td>\n",
       "      <td>43.000000</td>\n",
       "      <td>20.000000</td>\n",
       "      <td>145.000000</td>\n",
       "      <td>179.000000</td>\n",
       "      <td>366.000000</td>\n",
       "      <td>173.000000</td>\n",
       "      <td>72.000000</td>\n",
       "      <td>6.000000</td>\n",
       "      <td>11.000000</td>\n",
       "      <td>188.000000</td>\n",
       "      <td>197.00000</td>\n",
       "    </tr>\n",
       "    <tr>\n",
       "      <th>75%</th>\n",
       "      <td>620.000000</td>\n",
       "      <td>99.000000</td>\n",
       "      <td>49.000000</td>\n",
       "      <td>98.000000</td>\n",
       "      <td>195.000000</td>\n",
       "      <td>65.000000</td>\n",
       "      <td>10.000000</td>\n",
       "      <td>197.000000</td>\n",
       "      <td>46.000000</td>\n",
       "      <td>23.000000</td>\n",
       "      <td>159.000000</td>\n",
       "      <td>216.000000</td>\n",
       "      <td>586.000000</td>\n",
       "      <td>199.000000</td>\n",
       "      <td>76.000000</td>\n",
       "      <td>9.000000</td>\n",
       "      <td>18.000000</td>\n",
       "      <td>193.000000</td>\n",
       "      <td>201.00000</td>\n",
       "    </tr>\n",
       "    <tr>\n",
       "      <th>max</th>\n",
       "      <td>845.000000</td>\n",
       "      <td>119.000000</td>\n",
       "      <td>59.000000</td>\n",
       "      <td>112.000000</td>\n",
       "      <td>333.000000</td>\n",
       "      <td>138.000000</td>\n",
       "      <td>55.000000</td>\n",
       "      <td>261.000000</td>\n",
       "      <td>61.000000</td>\n",
       "      <td>28.000000</td>\n",
       "      <td>186.000000</td>\n",
       "      <td>320.000000</td>\n",
       "      <td>998.000000</td>\n",
       "      <td>264.000000</td>\n",
       "      <td>135.000000</td>\n",
       "      <td>22.000000</td>\n",
       "      <td>40.000000</td>\n",
       "      <td>204.000000</td>\n",
       "      <td>211.00000</td>\n",
       "    </tr>\n",
       "  </tbody>\n",
       "</table>\n",
       "</div>"
      ],
      "text/plain": [
       "               0           1           2           3           4           5   \\\n",
       "count  549.000000  549.000000  549.000000  549.000000  549.000000  549.000000   \n",
       "mean   417.712204   93.480874   44.794171   81.936248  168.710383   61.699454   \n",
       "std    240.321282    8.153528    6.048427   15.734845   33.207129    7.631500   \n",
       "min      0.000000   73.000000   33.000000   40.000000  104.000000   47.000000   \n",
       "25%    216.000000   87.000000   40.000000   70.000000  141.000000   57.000000   \n",
       "50%    419.000000   92.000000   44.000000   79.000000  168.000000   61.000000   \n",
       "75%    620.000000   99.000000   49.000000   98.000000  195.000000   65.000000   \n",
       "max    845.000000  119.000000   59.000000  112.000000  333.000000  138.000000   \n",
       "\n",
       "               6           7           8           9           10          11  \\\n",
       "count  549.000000  549.000000  549.000000  549.000000  549.000000  549.000000   \n",
       "mean     8.601093  168.426230   40.965392   20.550091  147.626594  188.457195   \n",
       "std      4.678269   32.516202    7.747891    2.522842   14.145390   30.713898   \n",
       "min      2.000000  112.000000   26.000000   17.000000  118.000000  130.000000   \n",
       "25%      7.000000  146.000000   33.000000   19.000000  137.000000  168.000000   \n",
       "50%      8.000000  157.000000   43.000000   20.000000  145.000000  179.000000   \n",
       "75%     10.000000  197.000000   46.000000   23.000000  159.000000  216.000000   \n",
       "max     55.000000  261.000000   61.000000   28.000000  186.000000  320.000000   \n",
       "\n",
       "               12          13          14          15          16          17  \\\n",
       "count  549.000000  549.000000  549.000000  549.000000  549.000000  549.000000   \n",
       "mean   437.510018  174.881603   72.562842    6.306011   12.275046  188.890710   \n",
       "std    171.952395   32.131950    7.700019    4.759276    8.595690    6.180001   \n",
       "min    184.000000  109.000000   59.000000    0.000000    0.000000  176.000000   \n",
       "25%    319.000000  151.000000   67.000000    2.000000    5.000000  185.000000   \n",
       "50%    366.000000  173.000000   72.000000    6.000000   11.000000  188.000000   \n",
       "75%    586.000000  199.000000   76.000000    9.000000   18.000000  193.000000   \n",
       "max    998.000000  264.000000  135.000000   22.000000   40.000000  204.000000   \n",
       "\n",
       "              18  \n",
       "count  549.00000  \n",
       "mean   195.61020  \n",
       "std      7.41627  \n",
       "min    182.00000  \n",
       "25%    190.00000  \n",
       "50%    197.00000  \n",
       "75%    201.00000  \n",
       "max    211.00000  "
      ]
     },
     "execution_count": 97,
     "metadata": {},
     "output_type": "execute_result"
    }
   ],
   "source": [
    "X_train_pd.describe()"
   ]
  },
  {
   "cell_type": "code",
   "execution_count": 98,
   "metadata": {},
   "outputs": [
    {
     "name": "stdout",
     "output_type": "stream",
     "text": [
      "<class 'pandas.core.frame.DataFrame'>\n",
      "RangeIndex: 549 entries, 0 to 548\n",
      "Data columns (total 19 columns):\n",
      " #   Column  Non-Null Count  Dtype\n",
      "---  ------  --------------  -----\n",
      " 0   0       549 non-null    int64\n",
      " 1   1       549 non-null    int64\n",
      " 2   2       549 non-null    int64\n",
      " 3   3       549 non-null    int64\n",
      " 4   4       549 non-null    int64\n",
      " 5   5       549 non-null    int64\n",
      " 6   6       549 non-null    int64\n",
      " 7   7       549 non-null    int64\n",
      " 8   8       549 non-null    int64\n",
      " 9   9       549 non-null    int64\n",
      " 10  10      549 non-null    int64\n",
      " 11  11      549 non-null    int64\n",
      " 12  12      549 non-null    int64\n",
      " 13  13      549 non-null    int64\n",
      " 14  14      549 non-null    int64\n",
      " 15  15      549 non-null    int64\n",
      " 16  16      549 non-null    int64\n",
      " 17  17      549 non-null    int64\n",
      " 18  18      549 non-null    int64\n",
      "dtypes: int64(19)\n",
      "memory usage: 81.6 KB\n"
     ]
    }
   ],
   "source": [
    "X_train_pd.info()"
   ]
  },
  {
   "cell_type": "markdown",
   "metadata": {
    "nbgrader": {
     "grade": false,
     "grade_id": "cell-be844269be69c387",
     "locked": true,
     "schema_version": 2,
     "solution": false
    }
   },
   "source": [
    "### 2. Machine Learning pipeline\n",
    "Here you are supposed to perform the desired transformations. Please, explain your results briefly after each task."
   ]
  },
  {
   "cell_type": "markdown",
   "metadata": {},
   "source": [
    "#### 2.0. Data preprocessing\n",
    "* Make some transformations of the dataset (if necessary). Briefly explain the transformations"
   ]
  },
  {
   "cell_type": "code",
   "execution_count": 99,
   "metadata": {
    "nbgrader": {
     "grade": true,
     "grade_id": "cell-a1514aa189a49fca",
     "locked": false,
     "points": 15,
     "schema_version": 2,
     "solution": true
    }
   },
   "outputs": [
    {
     "data": {
      "text/html": [
       "<div>\n",
       "<style scoped>\n",
       "    .dataframe tbody tr th:only-of-type {\n",
       "        vertical-align: middle;\n",
       "    }\n",
       "\n",
       "    .dataframe tbody tr th {\n",
       "        vertical-align: top;\n",
       "    }\n",
       "\n",
       "    .dataframe thead th {\n",
       "        text-align: right;\n",
       "    }\n",
       "</style>\n",
       "<table border=\"1\" class=\"dataframe\">\n",
       "  <thead>\n",
       "    <tr style=\"text-align: right;\">\n",
       "      <th></th>\n",
       "      <th>0</th>\n",
       "      <th>1</th>\n",
       "      <th>2</th>\n",
       "      <th>3</th>\n",
       "      <th>4</th>\n",
       "      <th>5</th>\n",
       "      <th>6</th>\n",
       "      <th>7</th>\n",
       "      <th>8</th>\n",
       "      <th>9</th>\n",
       "      <th>10</th>\n",
       "      <th>11</th>\n",
       "      <th>12</th>\n",
       "      <th>13</th>\n",
       "      <th>14</th>\n",
       "      <th>15</th>\n",
       "      <th>16</th>\n",
       "      <th>17</th>\n",
       "      <th>18</th>\n",
       "    </tr>\n",
       "  </thead>\n",
       "  <tbody>\n",
       "    <tr>\n",
       "      <th>0</th>\n",
       "      <td>-1.027529</td>\n",
       "      <td>1.536825</td>\n",
       "      <td>1.523408</td>\n",
       "      <td>1.339890</td>\n",
       "      <td>-0.232402</td>\n",
       "      <td>-1.927912</td>\n",
       "      <td>-0.984400</td>\n",
       "      <td>2.418654</td>\n",
       "      <td>-1.804120</td>\n",
       "      <td>2.558936</td>\n",
       "      <td>1.300082</td>\n",
       "      <td>2.526984</td>\n",
       "      <td>2.645526</td>\n",
       "      <td>2.090742</td>\n",
       "      <td>1.616684</td>\n",
       "      <td>-0.484972</td>\n",
       "      <td>-0.148471</td>\n",
       "      <td>-1.277978</td>\n",
       "      <td>-1.701893</td>\n",
       "    </tr>\n",
       "    <tr>\n",
       "      <th>1</th>\n",
       "      <td>0.680076</td>\n",
       "      <td>-0.550064</td>\n",
       "      <td>-1.455286</td>\n",
       "      <td>-0.886501</td>\n",
       "      <td>-0.835232</td>\n",
       "      <td>-0.354048</td>\n",
       "      <td>-0.128603</td>\n",
       "      <td>-0.905797</td>\n",
       "      <td>0.779581</td>\n",
       "      <td>-1.011723</td>\n",
       "      <td>-1.247238</td>\n",
       "      <td>-0.731841</td>\n",
       "      <td>-0.852815</td>\n",
       "      <td>-1.491515</td>\n",
       "      <td>0.056825</td>\n",
       "      <td>0.145951</td>\n",
       "      <td>-1.312905</td>\n",
       "      <td>0.017701</td>\n",
       "      <td>0.052608</td>\n",
       "    </tr>\n",
       "    <tr>\n",
       "      <th>2</th>\n",
       "      <td>1.221512</td>\n",
       "      <td>0.800276</td>\n",
       "      <td>1.523408</td>\n",
       "      <td>1.276279</td>\n",
       "      <td>1.123964</td>\n",
       "      <td>0.432884</td>\n",
       "      <td>0.299295</td>\n",
       "      <td>0.910338</td>\n",
       "      <td>-1.029010</td>\n",
       "      <td>0.971977</td>\n",
       "      <td>1.158564</td>\n",
       "      <td>1.158278</td>\n",
       "      <td>0.870161</td>\n",
       "      <td>2.028442</td>\n",
       "      <td>-0.073163</td>\n",
       "      <td>-0.484972</td>\n",
       "      <td>-0.148471</td>\n",
       "      <td>-0.306219</td>\n",
       "      <td>0.052608</td>\n",
       "    </tr>\n",
       "    <tr>\n",
       "      <th>3</th>\n",
       "      <td>1.025762</td>\n",
       "      <td>-0.427306</td>\n",
       "      <td>-0.296905</td>\n",
       "      <td>-0.632056</td>\n",
       "      <td>-0.352968</td>\n",
       "      <td>0.301729</td>\n",
       "      <td>-0.128603</td>\n",
       "      <td>-0.998142</td>\n",
       "      <td>1.037952</td>\n",
       "      <td>-1.011723</td>\n",
       "      <td>-0.185855</td>\n",
       "      <td>-0.992546</td>\n",
       "      <td>-0.922666</td>\n",
       "      <td>-0.245512</td>\n",
       "      <td>-1.113069</td>\n",
       "      <td>-0.484972</td>\n",
       "      <td>-0.730688</td>\n",
       "      <td>1.961219</td>\n",
       "      <td>1.807109</td>\n",
       "    </tr>\n",
       "    <tr>\n",
       "      <th>4</th>\n",
       "      <td>1.021597</td>\n",
       "      <td>-0.550064</td>\n",
       "      <td>0.365027</td>\n",
       "      <td>0.067667</td>\n",
       "      <td>0.008729</td>\n",
       "      <td>-0.091737</td>\n",
       "      <td>-0.128603</td>\n",
       "      <td>-0.136248</td>\n",
       "      <td>-0.124714</td>\n",
       "      <td>-0.218243</td>\n",
       "      <td>0.167940</td>\n",
       "      <td>0.017689</td>\n",
       "      <td>-0.206699</td>\n",
       "      <td>0.470939</td>\n",
       "      <td>-0.073163</td>\n",
       "      <td>0.145951</td>\n",
       "      <td>-0.264914</td>\n",
       "      <td>-0.306219</td>\n",
       "      <td>-0.352277</td>\n",
       "    </tr>\n",
       "    <tr>\n",
       "      <th>5</th>\n",
       "      <td>-1.106662</td>\n",
       "      <td>-0.059031</td>\n",
       "      <td>-1.620769</td>\n",
       "      <td>-0.632056</td>\n",
       "      <td>0.099154</td>\n",
       "      <td>0.039418</td>\n",
       "      <td>-0.342553</td>\n",
       "      <td>-0.597977</td>\n",
       "      <td>0.392026</td>\n",
       "      <td>-0.614983</td>\n",
       "      <td>-1.671791</td>\n",
       "      <td>-0.634076</td>\n",
       "      <td>-0.602518</td>\n",
       "      <td>-1.553815</td>\n",
       "      <td>-1.373045</td>\n",
       "      <td>-0.274664</td>\n",
       "      <td>2.063955</td>\n",
       "      <td>2.285138</td>\n",
       "      <td>1.942071</td>\n",
       "    </tr>\n",
       "    <tr>\n",
       "      <th>6</th>\n",
       "      <td>0.550964</td>\n",
       "      <td>-0.918338</td>\n",
       "      <td>-1.124320</td>\n",
       "      <td>-1.522613</td>\n",
       "      <td>-1.498344</td>\n",
       "      <td>-0.747514</td>\n",
       "      <td>-0.984400</td>\n",
       "      <td>-1.552217</td>\n",
       "      <td>2.071432</td>\n",
       "      <td>-1.408463</td>\n",
       "      <td>-1.317997</td>\n",
       "      <td>-1.579135</td>\n",
       "      <td>-1.335947</td>\n",
       "      <td>-0.712763</td>\n",
       "      <td>0.706767</td>\n",
       "      <td>0.566566</td>\n",
       "      <td>-1.196462</td>\n",
       "      <td>-0.792099</td>\n",
       "      <td>-1.297008</td>\n",
       "    </tr>\n",
       "    <tr>\n",
       "      <th>7</th>\n",
       "      <td>-0.765141</td>\n",
       "      <td>-0.059031</td>\n",
       "      <td>-0.462388</td>\n",
       "      <td>-1.140946</td>\n",
       "      <td>-0.322827</td>\n",
       "      <td>0.826350</td>\n",
       "      <td>0.085346</td>\n",
       "      <td>-1.059706</td>\n",
       "      <td>1.037952</td>\n",
       "      <td>-1.011723</td>\n",
       "      <td>-0.398131</td>\n",
       "      <td>-0.829605</td>\n",
       "      <td>-0.986695</td>\n",
       "      <td>-0.152062</td>\n",
       "      <td>-0.203151</td>\n",
       "      <td>0.145951</td>\n",
       "      <td>0.084416</td>\n",
       "      <td>0.503580</td>\n",
       "      <td>0.727416</td>\n",
       "    </tr>\n",
       "    <tr>\n",
       "      <th>8</th>\n",
       "      <td>-0.623535</td>\n",
       "      <td>-0.918338</td>\n",
       "      <td>-0.958837</td>\n",
       "      <td>-1.395391</td>\n",
       "      <td>-0.865373</td>\n",
       "      <td>-0.222892</td>\n",
       "      <td>-0.342553</td>\n",
       "      <td>-1.521436</td>\n",
       "      <td>1.813062</td>\n",
       "      <td>-1.408463</td>\n",
       "      <td>-0.964203</td>\n",
       "      <td>-1.579135</td>\n",
       "      <td>-1.312664</td>\n",
       "      <td>-1.055414</td>\n",
       "      <td>-1.503033</td>\n",
       "      <td>0.145951</td>\n",
       "      <td>-0.497801</td>\n",
       "      <td>1.799259</td>\n",
       "      <td>1.537186</td>\n",
       "    </tr>\n",
       "    <tr>\n",
       "      <th>9</th>\n",
       "      <td>-0.881758</td>\n",
       "      <td>-0.181789</td>\n",
       "      <td>0.199544</td>\n",
       "      <td>-0.186778</td>\n",
       "      <td>0.219720</td>\n",
       "      <td>0.301729</td>\n",
       "      <td>-0.128603</td>\n",
       "      <td>-0.197812</td>\n",
       "      <td>0.004471</td>\n",
       "      <td>-0.218243</td>\n",
       "      <td>0.097181</td>\n",
       "      <td>-0.177840</td>\n",
       "      <td>-0.241624</td>\n",
       "      <td>0.097138</td>\n",
       "      <td>-0.723104</td>\n",
       "      <td>-0.905587</td>\n",
       "      <td>-0.264914</td>\n",
       "      <td>0.341620</td>\n",
       "      <td>0.322531</td>\n",
       "    </tr>\n",
       "    <tr>\n",
       "      <th>10</th>\n",
       "      <td>-1.485668</td>\n",
       "      <td>-2.023162</td>\n",
       "      <td>-1.124320</td>\n",
       "      <td>-1.204557</td>\n",
       "      <td>-1.016081</td>\n",
       "      <td>-0.354048</td>\n",
       "      <td>-0.770451</td>\n",
       "      <td>-1.182834</td>\n",
       "      <td>1.425507</td>\n",
       "      <td>-1.011723</td>\n",
       "      <td>-1.247238</td>\n",
       "      <td>-1.416194</td>\n",
       "      <td>-1.108933</td>\n",
       "      <td>-1.117714</td>\n",
       "      <td>0.836755</td>\n",
       "      <td>1.407797</td>\n",
       "      <td>1.015964</td>\n",
       "      <td>-0.954059</td>\n",
       "      <td>-1.162047</td>\n",
       "    </tr>\n",
       "    <tr>\n",
       "      <th>11</th>\n",
       "      <td>-0.656854</td>\n",
       "      <td>-1.286613</td>\n",
       "      <td>-1.289803</td>\n",
       "      <td>-1.777058</td>\n",
       "      <td>-1.528486</td>\n",
       "      <td>-0.878669</td>\n",
       "      <td>-0.984400</td>\n",
       "      <td>-1.213616</td>\n",
       "      <td>1.425507</td>\n",
       "      <td>-1.011723</td>\n",
       "      <td>-1.459515</td>\n",
       "      <td>-1.383605</td>\n",
       "      <td>-1.120575</td>\n",
       "      <td>-1.086564</td>\n",
       "      <td>1.096731</td>\n",
       "      <td>-0.484972</td>\n",
       "      <td>0.084416</td>\n",
       "      <td>-1.439938</td>\n",
       "      <td>-1.566932</td>\n",
       "    </tr>\n",
       "    <tr>\n",
       "      <th>12</th>\n",
       "      <td>-0.573556</td>\n",
       "      <td>0.800276</td>\n",
       "      <td>-0.131422</td>\n",
       "      <td>0.703778</td>\n",
       "      <td>0.732125</td>\n",
       "      <td>0.039418</td>\n",
       "      <td>-0.128603</td>\n",
       "      <td>0.540955</td>\n",
       "      <td>-0.770640</td>\n",
       "      <td>0.575237</td>\n",
       "      <td>-0.044337</td>\n",
       "      <td>0.441336</td>\n",
       "      <td>0.485984</td>\n",
       "      <td>-0.743913</td>\n",
       "      <td>-0.853092</td>\n",
       "      <td>-1.326202</td>\n",
       "      <td>-1.196462</td>\n",
       "      <td>0.665540</td>\n",
       "      <td>0.322531</td>\n",
       "    </tr>\n",
       "    <tr>\n",
       "      <th>13</th>\n",
       "      <td>1.588022</td>\n",
       "      <td>-0.181789</td>\n",
       "      <td>-0.958837</td>\n",
       "      <td>-0.377612</td>\n",
       "      <td>0.340286</td>\n",
       "      <td>1.219816</td>\n",
       "      <td>-0.556502</td>\n",
       "      <td>-0.505631</td>\n",
       "      <td>0.262841</td>\n",
       "      <td>-0.614983</td>\n",
       "      <td>-1.176479</td>\n",
       "      <td>-0.308193</td>\n",
       "      <td>-0.509384</td>\n",
       "      <td>-0.993114</td>\n",
       "      <td>-0.073163</td>\n",
       "      <td>-0.064356</td>\n",
       "      <td>0.200860</td>\n",
       "      <td>0.989460</td>\n",
       "      <td>0.592455</td>\n",
       "    </tr>\n",
       "    <tr>\n",
       "      <th>14</th>\n",
       "      <td>-0.319498</td>\n",
       "      <td>-0.918338</td>\n",
       "      <td>-0.793354</td>\n",
       "      <td>-0.441223</td>\n",
       "      <td>-0.684525</td>\n",
       "      <td>0.039418</td>\n",
       "      <td>-0.556502</td>\n",
       "      <td>-0.875015</td>\n",
       "      <td>0.908766</td>\n",
       "      <td>-1.011723</td>\n",
       "      <td>-0.893444</td>\n",
       "      <td>-0.992546</td>\n",
       "      <td>-0.858636</td>\n",
       "      <td>-0.401263</td>\n",
       "      <td>-0.073163</td>\n",
       "      <td>-0.695279</td>\n",
       "      <td>1.015964</td>\n",
       "      <td>-0.954059</td>\n",
       "      <td>-0.757162</td>\n",
       "    </tr>\n",
       "  </tbody>\n",
       "</table>\n",
       "</div>"
      ],
      "text/plain": [
       "           0         1         2         3         4         5         6  \\\n",
       "0  -1.027529  1.536825  1.523408  1.339890 -0.232402 -1.927912 -0.984400   \n",
       "1   0.680076 -0.550064 -1.455286 -0.886501 -0.835232 -0.354048 -0.128603   \n",
       "2   1.221512  0.800276  1.523408  1.276279  1.123964  0.432884  0.299295   \n",
       "3   1.025762 -0.427306 -0.296905 -0.632056 -0.352968  0.301729 -0.128603   \n",
       "4   1.021597 -0.550064  0.365027  0.067667  0.008729 -0.091737 -0.128603   \n",
       "5  -1.106662 -0.059031 -1.620769 -0.632056  0.099154  0.039418 -0.342553   \n",
       "6   0.550964 -0.918338 -1.124320 -1.522613 -1.498344 -0.747514 -0.984400   \n",
       "7  -0.765141 -0.059031 -0.462388 -1.140946 -0.322827  0.826350  0.085346   \n",
       "8  -0.623535 -0.918338 -0.958837 -1.395391 -0.865373 -0.222892 -0.342553   \n",
       "9  -0.881758 -0.181789  0.199544 -0.186778  0.219720  0.301729 -0.128603   \n",
       "10 -1.485668 -2.023162 -1.124320 -1.204557 -1.016081 -0.354048 -0.770451   \n",
       "11 -0.656854 -1.286613 -1.289803 -1.777058 -1.528486 -0.878669 -0.984400   \n",
       "12 -0.573556  0.800276 -0.131422  0.703778  0.732125  0.039418 -0.128603   \n",
       "13  1.588022 -0.181789 -0.958837 -0.377612  0.340286  1.219816 -0.556502   \n",
       "14 -0.319498 -0.918338 -0.793354 -0.441223 -0.684525  0.039418 -0.556502   \n",
       "\n",
       "           7         8         9        10        11        12        13  \\\n",
       "0   2.418654 -1.804120  2.558936  1.300082  2.526984  2.645526  2.090742   \n",
       "1  -0.905797  0.779581 -1.011723 -1.247238 -0.731841 -0.852815 -1.491515   \n",
       "2   0.910338 -1.029010  0.971977  1.158564  1.158278  0.870161  2.028442   \n",
       "3  -0.998142  1.037952 -1.011723 -0.185855 -0.992546 -0.922666 -0.245512   \n",
       "4  -0.136248 -0.124714 -0.218243  0.167940  0.017689 -0.206699  0.470939   \n",
       "5  -0.597977  0.392026 -0.614983 -1.671791 -0.634076 -0.602518 -1.553815   \n",
       "6  -1.552217  2.071432 -1.408463 -1.317997 -1.579135 -1.335947 -0.712763   \n",
       "7  -1.059706  1.037952 -1.011723 -0.398131 -0.829605 -0.986695 -0.152062   \n",
       "8  -1.521436  1.813062 -1.408463 -0.964203 -1.579135 -1.312664 -1.055414   \n",
       "9  -0.197812  0.004471 -0.218243  0.097181 -0.177840 -0.241624  0.097138   \n",
       "10 -1.182834  1.425507 -1.011723 -1.247238 -1.416194 -1.108933 -1.117714   \n",
       "11 -1.213616  1.425507 -1.011723 -1.459515 -1.383605 -1.120575 -1.086564   \n",
       "12  0.540955 -0.770640  0.575237 -0.044337  0.441336  0.485984 -0.743913   \n",
       "13 -0.505631  0.262841 -0.614983 -1.176479 -0.308193 -0.509384 -0.993114   \n",
       "14 -0.875015  0.908766 -1.011723 -0.893444 -0.992546 -0.858636 -0.401263   \n",
       "\n",
       "          14        15        16        17        18  \n",
       "0   1.616684 -0.484972 -0.148471 -1.277978 -1.701893  \n",
       "1   0.056825  0.145951 -1.312905  0.017701  0.052608  \n",
       "2  -0.073163 -0.484972 -0.148471 -0.306219  0.052608  \n",
       "3  -1.113069 -0.484972 -0.730688  1.961219  1.807109  \n",
       "4  -0.073163  0.145951 -0.264914 -0.306219 -0.352277  \n",
       "5  -1.373045 -0.274664  2.063955  2.285138  1.942071  \n",
       "6   0.706767  0.566566 -1.196462 -0.792099 -1.297008  \n",
       "7  -0.203151  0.145951  0.084416  0.503580  0.727416  \n",
       "8  -1.503033  0.145951 -0.497801  1.799259  1.537186  \n",
       "9  -0.723104 -0.905587 -0.264914  0.341620  0.322531  \n",
       "10  0.836755  1.407797  1.015964 -0.954059 -1.162047  \n",
       "11  1.096731 -0.484972  0.084416 -1.439938 -1.566932  \n",
       "12 -0.853092 -1.326202 -1.196462  0.665540  0.322531  \n",
       "13 -0.073163 -0.064356  0.200860  0.989460  0.592455  \n",
       "14 -0.073163 -0.695279  1.015964 -0.954059 -0.757162  "
      ]
     },
     "execution_count": 99,
     "metadata": {},
     "output_type": "execute_result"
    }
   ],
   "source": [
    "### YOUR CODE HERE\n",
    "import matplotlib.pyplot as plt\n",
    "import seaborn as sns\n",
    "from sklearn.preprocessing import StandardScaler\n",
    "\n",
    "scaler = StandardScaler()\n",
    "X_train = scaler.fit_transform(X_train)\n",
    "X_test = scaler.transform(X_test)\n",
    "pd.DataFrame(X_train).head(15)"
   ]
  },
  {
   "cell_type": "markdown",
   "metadata": {},
   "source": [
    "#### 2.1. Basic logistic regression\n",
    "* Find optimal hyperparameters for logistic regression with cross-validation on the `train` data (small grid/random search is enough, no need to find the *best* parameters).\n",
    "\n",
    "* Estimate the model quality with `f1` and `accuracy` scores.\n",
    "* Plot a ROC-curve for the trained model. For the multiclass case you might use `scikitplot` library (e.g. `scikitplot.metrics.plot_roc(test_labels, predicted_proba)`).\n",
    "\n",
    "*Note: please, use the following hyperparameters for logistic regression: `multi_class='multinomial'`, `solver='saga'` `tol=1e-3` and ` max_iter=500`.*"
   ]
  },
  {
   "cell_type": "code",
   "execution_count": 100,
   "metadata": {
    "nbgrader": {
     "grade": true,
     "grade_id": "cell-1dd5ad5d0845cbbb",
     "locked": false,
     "points": 5,
     "schema_version": 2,
     "solution": true
    }
   },
   "outputs": [],
   "source": [
    "### YOUR CODE HERE\n",
    "from sklearn.linear_model import LogisticRegression\n",
    "from sklearn.model_selection import GridSearchCV, StratifiedKFold\n",
    "\n",
    "import warnings\n",
    "warnings.filterwarnings('ignore')"
   ]
  },
  {
   "cell_type": "code",
   "execution_count": 101,
   "metadata": {},
   "outputs": [],
   "source": [
    "lr = LogisticRegression(solver='saga', multi_class='multinomial', \n",
    "                        max_iter= 1000, tol=1e-3)\n",
    "\n",
    "params = {\n",
    "    'penalty': ['l1', 'l2'],\n",
    "    'C': np.linspace(-20, 20, 100)\n",
    "}\n",
    "\n",
    "\n",
    "grid_cv = GridSearchCV(estimator=lr, \n",
    "                        param_grid=params, \n",
    "                        cv=StratifiedKFold(n_splits=5))"
   ]
  },
  {
   "cell_type": "code",
   "execution_count": 102,
   "metadata": {},
   "outputs": [
    {
     "data": {
      "text/plain": [
       "GridSearchCV(cv=StratifiedKFold(n_splits=5, random_state=None, shuffle=False),\n",
       "             error_score=nan,\n",
       "             estimator=LogisticRegression(C=1.0, class_weight=None, dual=False,\n",
       "                                          fit_intercept=True,\n",
       "                                          intercept_scaling=1, l1_ratio=None,\n",
       "                                          max_iter=1000,\n",
       "                                          multi_class='multinomial',\n",
       "                                          n_jobs=None, penalty='l2',\n",
       "                                          random_state=None, solver='saga',\n",
       "                                          tol=0.001, verbose=0,\n",
       "                                          warm_start=False),\n",
       "             iid='d...\n",
       "        10.70707071,  11.11111111,  11.51515152,  11.91919192,\n",
       "        12.32323232,  12.72727273,  13.13131313,  13.53535354,\n",
       "        13.93939394,  14.34343434,  14.74747475,  15.15151515,\n",
       "        15.55555556,  15.95959596,  16.36363636,  16.76767677,\n",
       "        17.17171717,  17.57575758,  17.97979798,  18.38383838,\n",
       "        18.78787879,  19.19191919,  19.5959596 ,  20.        ]),\n",
       "                         'penalty': ['l1', 'l2']},\n",
       "             pre_dispatch='2*n_jobs', refit=True, return_train_score=False,\n",
       "             scoring=None, verbose=0)"
      ]
     },
     "execution_count": 102,
     "metadata": {},
     "output_type": "execute_result"
    }
   ],
   "source": [
    "grid_cv.fit(X_train, y_train)"
   ]
  },
  {
   "cell_type": "code",
   "execution_count": 103,
   "metadata": {},
   "outputs": [
    {
     "name": "stdout",
     "output_type": "stream",
     "text": [
      "{'C': 7.070707070707069, 'penalty': 'l2'}\n"
     ]
    }
   ],
   "source": [
    "print(grid_cv.best_params_)\n",
    "C_ = grid_cv.best_params_['C']\n",
    "penalty_ = grid_cv.best_params_['penalty']"
   ]
  },
  {
   "cell_type": "code",
   "execution_count": 104,
   "metadata": {},
   "outputs": [
    {
     "name": "stdout",
     "output_type": "stream",
     "text": [
      "accuracy = 0.8080808080808081, f1 = 0.8060244217962338\n"
     ]
    }
   ],
   "source": [
    "from sklearn.metrics import roc_curve, accuracy_score, f1_score\n",
    "\n",
    "def out_score(y_true, y_pred):\n",
    "    print('accuracy = {}, f1 = {}'.format(\n",
    "        accuracy_score(y_true, y_pred), \n",
    "        f1_score(y_true, y_pred, average='macro')))\n",
    "\n",
    "lr_best = LogisticRegression(penalty=penalty_, C = C_, \n",
    "                             solver='saga', multi_class='multinomial')\n",
    "lr_best.fit(X_train, y_train)\n",
    "    \n",
    "out_score(y_test, lr_best.predict(X_test))"
   ]
  },
  {
   "cell_type": "code",
   "execution_count": 105,
   "metadata": {},
   "outputs": [
    {
     "data": {
      "text/plain": [
       "<matplotlib.axes._subplots.AxesSubplot at 0x7f95d099a110>"
      ]
     },
     "execution_count": 105,
     "metadata": {},
     "output_type": "execute_result"
    },
    {
     "data": {
      "image/png": "[encoded data removed]",
      "text/plain": [
       "<Figure size 864x720 with 1 Axes>"
      ]
     },
     "metadata": {
      "needs_background": "light"
     },
     "output_type": "display_data"
    }
   ],
   "source": [
    "from scikitplot.metrics import plot_roc\n",
    "\n",
    "plot_roc(y_test, lr_best.predict_proba(X_test), figsize = (12, 10))"
   ]
  },
  {
   "cell_type": "code",
   "execution_count": 106,
   "metadata": {},
   "outputs": [],
   "source": [
    "# You might use this command to install scikit-plot. \n",
    "# Warning, if you a running locally, don't call pip from within jupyter, call it from terminal in the corresponding \n",
    "# virtual environment instead\n",
    "\n",
    "# ! pip install scikit-plot"
   ]
  },
  {
   "cell_type": "markdown",
   "metadata": {},
   "source": [
    "#### 2.2. PCA: explained variance plot\n",
    "* Apply the PCA to the train part of the data. Build the explaided variance plot. "
   ]
  },
  {
   "cell_type": "code",
   "execution_count": 107,
   "metadata": {
    "nbgrader": {
     "grade": true,
     "grade_id": "cell-c6c614740bce090e",
     "locked": false,
     "points": 10,
     "schema_version": 2,
     "solution": true
    }
   },
   "outputs": [
    {
     "data": {
      "image/png": "[encoded data removed]",
      "text/plain": [
       "<Figure size 432x288 with 1 Axes>"
      ]
     },
     "metadata": {
      "needs_background": "light"
     },
     "output_type": "display_data"
    }
   ],
   "source": [
    "### YOUR CODE HERE\n",
    "from sklearn.decomposition import PCA\n",
    "import matplotlib.pyplot as plt\n",
    "\n",
    "\n",
    "pca = PCA().fit(X_train)\n",
    "variance_list = pca.explained_variance_ratio_\n",
    "\n",
    "variance_list = [sum(variance_list[:i]) for i in range(len(variance_list))]\n",
    "\n",
    "plt.plot(variance_list)\n",
    "\n",
    "plt.title('Variance plot')\n",
    "plt.ylabel('explained variance')\n",
    "plt.xlabel('n_components')\n",
    "plt.grid()"
   ]
  },
  {
   "cell_type": "markdown",
   "metadata": {
    "nbgrader": {
     "grade": false,
     "grade_id": "cell-0c1fe666f52fe53c",
     "locked": true,
     "schema_version": 2,
     "solution": false
    }
   },
   "source": [
    "#### 2.3. PCA trasformation\n",
    "* Select the appropriate number of components. Briefly explain your choice. Should you normalize the data?\n",
    "\n",
    "*Use `fit` and `transform` methods to transform the `train` and `test` parts.*"
   ]
  },
  {
   "cell_type": "code",
   "execution_count": null,
   "metadata": {},
   "outputs": [],
   "source": []
  },
  {
   "cell_type": "code",
   "execution_count": 108,
   "metadata": {
    "nbgrader": {
     "grade": true,
     "grade_id": "cell-96ab18d96473ef71",
     "locked": false,
     "points": 5,
     "schema_version": 2,
     "solution": true
    }
   },
   "outputs": [],
   "source": [
    "### YOUR CODE HERE\n",
    "n_components = 10\n",
    "model = PCA(n_components=n_components)\n",
    "X_train_pca = pca.fit_transform(X_train)\n",
    "X_test_pca = pca.transform(X_test)"
   ]
  },
  {
   "cell_type": "markdown",
   "metadata": {},
   "source": [
    "**Note: From this point `sklearn` [Pipeline](https://scikit-learn.org/stable/modules/compose.html) might be useful to perform transformations on the data. Refer to the [docs](https://scikit-learn.org/stable/modules/generated/sklearn.pipeline.Pipeline.html) for more information.**"
   ]
  },
  {
   "cell_type": "markdown",
   "metadata": {
    "nbgrader": {
     "grade": false,
     "grade_id": "cell-d28b58a35c94e988",
     "locked": true,
     "schema_version": 2,
     "solution": false
    }
   },
   "source": [
    "#### 2.4. Logistic regression on PCA-preprocessed data.\n",
    "* Find optimal hyperparameters for logistic regression with cross-validation on the transformed by PCA `train` data.\n",
    "\n",
    "* Estimate the model quality with `f1` and `accuracy` scores.\n",
    "* Plot a ROC-curve for the trained model. For the multiclass case you might use `scikitplot` library (e.g. `scikitplot.metrics.plot_roc(test_labels, predicted_proba)`).\n",
    "\n",
    "*Note: please, use the following hyperparameters for logistic regression: `multi_class='multinomial'`, `solver='saga'` and `tol=1e-3`*"
   ]
  },
  {
   "cell_type": "code",
   "execution_count": 109,
   "metadata": {
    "nbgrader": {
     "grade": true,
     "grade_id": "cell-12d53ea45258fa82",
     "locked": false,
     "points": 5,
     "schema_version": 2,
     "solution": true
    }
   },
   "outputs": [
    {
     "data": {
      "text/plain": [
       "GridSearchCV(cv=StratifiedKFold(n_splits=5, random_state=None, shuffle=False),\n",
       "             error_score=nan,\n",
       "             estimator=LogisticRegression(C=1.0, class_weight=None, dual=False,\n",
       "                                          fit_intercept=True,\n",
       "                                          intercept_scaling=1, l1_ratio=None,\n",
       "                                          max_iter=1000,\n",
       "                                          multi_class='multinomial',\n",
       "                                          n_jobs=None, penalty='l2',\n",
       "                                          random_state=None, solver='saga',\n",
       "                                          tol=0.001, verbose=0,\n",
       "                                          warm_start=False),\n",
       "             iid='d...\n",
       "        10.70707071,  11.11111111,  11.51515152,  11.91919192,\n",
       "        12.32323232,  12.72727273,  13.13131313,  13.53535354,\n",
       "        13.93939394,  14.34343434,  14.74747475,  15.15151515,\n",
       "        15.55555556,  15.95959596,  16.36363636,  16.76767677,\n",
       "        17.17171717,  17.57575758,  17.97979798,  18.38383838,\n",
       "        18.78787879,  19.19191919,  19.5959596 ,  20.        ]),\n",
       "                         'penalty': ['l1', 'l2']},\n",
       "             pre_dispatch='2*n_jobs', refit=True, return_train_score=False,\n",
       "             scoring=None, verbose=0)"
      ]
     },
     "execution_count": 109,
     "metadata": {},
     "output_type": "execute_result"
    }
   ],
   "source": [
    "### YOUR CODE HERE\n",
    "grid_cv.fit(X_train_pca, y_train)"
   ]
  },
  {
   "cell_type": "code",
   "execution_count": 110,
   "metadata": {},
   "outputs": [
    {
     "name": "stdout",
     "output_type": "stream",
     "text": [
      "{'C': 7.474747474747474, 'penalty': 'l2'}\n"
     ]
    }
   ],
   "source": [
    "print(grid_cv.best_params_)\n",
    "C_ = grid_cv.best_params_['C']\n",
    "penalty_ = grid_cv.best_params_['penalty']"
   ]
  },
  {
   "cell_type": "code",
   "execution_count": 111,
   "metadata": {},
   "outputs": [
    {
     "name": "stdout",
     "output_type": "stream",
     "text": [
      "accuracy = 0.8080808080808081, f1 = 0.8060244217962338\n"
     ]
    }
   ],
   "source": [
    "lr_best = LogisticRegression(penalty=penalty_, C = C_, solver='saga', multi_class='multinomial')\n",
    "lr_best.fit(X_train_pca, y_train)\n",
    "y_pred = lr_best.predict(X_test_pca)\n",
    "    \n",
    "out_score(y_test, y_pred)"
   ]
  },
  {
   "cell_type": "markdown",
   "metadata": {
    "nbgrader": {
     "grade": false,
     "grade_id": "cell-4fbf16c64076e139",
     "locked": true,
     "schema_version": 2,
     "solution": false
    }
   },
   "source": [
    "#### 2.5. Decision tree\n",
    "* Now train a desicion tree on the same data. Find optimal tree depth (`max_depth`) using cross-validation.\n",
    "\n",
    "* Measure the model quality using the same metrics you used above."
   ]
  },
  {
   "cell_type": "code",
   "execution_count": 112,
   "metadata": {
    "nbgrader": {
     "grade": true,
     "grade_id": "cell-748ed20b51c67fab",
     "locked": false,
     "points": 15,
     "schema_version": 2,
     "solution": true
    }
   },
   "outputs": [
    {
     "name": "stdout",
     "output_type": "stream",
     "text": [
      "{'max_depth': 10}\n"
     ]
    }
   ],
   "source": [
    "from sklearn.tree import DecisionTreeClassifier\n",
    "\n",
    "# YOUR CODE HERE\n",
    "model = DecisionTreeClassifier()\n",
    "\n",
    "params = {\n",
    "    'max_depth': np.arange(1, 15),\n",
    "}\n",
    "\n",
    "grid_cv_tree = GridSearchCV(estimator=model, \n",
    "                    param_grid=params, \n",
    "                    scoring='precision_macro', \n",
    "                    cv=StratifiedKFold(n_splits=5))\n",
    "\n",
    "grid_cv_tree.fit(X_train, y_train)\n",
    "\n",
    "print(grid_cv_tree.best_params_)\n",
    "\n",
    "depth = grid_cv_tree.best_params_['max_depth']"
   ]
  },
  {
   "cell_type": "code",
   "execution_count": 113,
   "metadata": {},
   "outputs": [
    {
     "data": {
      "image/png": "[encoded data removed]",
      "text/plain": [
       "<Figure size 432x288 with 1 Axes>"
      ]
     },
     "metadata": {
      "needs_background": "light"
     },
     "output_type": "display_data"
    }
   ],
   "source": [
    "plt.plot(np.arange(1, 15), grid_cv_tree.cv_results_['mean_test_score'])\n",
    "plt.xlabel(\"max_depth\")\n",
    "plt.ylabel('mean_test_score')\n",
    "plt.grid()"
   ]
  },
  {
   "cell_type": "code",
   "execution_count": 114,
   "metadata": {},
   "outputs": [
    {
     "name": "stdout",
     "output_type": "stream",
     "text": [
      "accuracy = 0.6599326599326599, f1 = 0.6627222340784453\n"
     ]
    }
   ],
   "source": [
    "dtree_best = DecisionTreeClassifier(max_depth = depth)\n",
    "\n",
    "dtree_best.fit(X_train, y_train)\n",
    "y_pred = dtree_best.predict(X_test)\n",
    "out_score(y_test, y_pred)"
   ]
  },
  {
   "cell_type": "code",
   "execution_count": 115,
   "metadata": {},
   "outputs": [
    {
     "data": {
      "text/plain": [
       "<matplotlib.axes._subplots.AxesSubplot at 0x7f95cf32a790>"
      ]
     },
     "execution_count": 115,
     "metadata": {},
     "output_type": "execute_result"
    },
    {
     "data": {
      "image/png": "[encoded data removed]",
      "text/plain": [
       "<Figure size 864x720 with 1 Axes>"
      ]
     },
     "metadata": {
      "needs_background": "light"
     },
     "output_type": "display_data"
    }
   ],
   "source": [
    "plot_roc(y_test, dtree_best.predict_proba(X_test), figsize = (12, 10))"
   ]
  },
  {
   "cell_type": "markdown",
   "metadata": {
    "nbgrader": {
     "grade": false,
     "grade_id": "cell-9eadd4d8a03ae67a",
     "locked": true,
     "schema_version": 2,
     "solution": false
    }
   },
   "source": [
    "#### 2.6. Bagging.\n",
    "Here starts the ensembling part.\n",
    "\n",
    "First we will use the __Bagging__ approach. Build an ensemble of $N$ algorithms varying N from $N_{min}=2$ to $N_{max}=100$ (with step 5).\n",
    "\n",
    "We will build two ensembles: of logistic regressions and of decision trees.\n",
    "\n",
    "*Comment: each ensemble should be constructed from models of the same family, so logistic regressions should not be mixed up with decision trees.*\n",
    "\n",
    "\n",
    "*Hint 1: To build a __Bagging__ ensebmle varying the ensemble size efficiently you might generate $N_{max}$ subsets of `train` data (of the same size as the original dataset) using bootstrap procedure once. Then you train a new instance of logistic regression/decision tree with optimal hyperparameters you estimated before on each subset (so you train it from scratch). Finally, to get an ensemble of $N$ models you average the $N$ out of $N_{max}$ models predictions.*\n",
    "\n",
    "*Hint 2: sklearn might help you with this taks. Some appropriate function/class might be out there.*\n",
    "\n",
    "* Plot `f1` and `accuracy` scores plots w.r.t. the size of the ensemble.\n",
    "\n",
    "* Briefly analyse the plot. What is the optimal number of algorithms? Explain your answer.\n",
    "\n",
    "* How do you think, are the hyperparameters for the decision trees you found in 2.5 optimal for trees used in ensemble? "
   ]
  },
  {
   "cell_type": "code",
   "execution_count": 116,
   "metadata": {
    "nbgrader": {
     "grade": true,
     "grade_id": "cell-8fc95a2b206bdae1",
     "locked": false,
     "points": 35,
     "schema_version": 2,
     "solution": true
    }
   },
   "outputs": [],
   "source": [
    "# YOUR CODE HERE\n",
    "from sklearn.ensemble import BaggingClassifier\n",
    "from sklearn.model_selection import cross_val_score\n",
    "\n",
    "\n",
    "model = BaggingClassifier(base_estimator=lr_best)\n",
    "\n",
    "params = {\n",
    "    'n_estimators': np.arange(2, 100, 5)\n",
    "}"
   ]
  },
  {
   "cell_type": "code",
   "execution_count": 117,
   "metadata": {},
   "outputs": [
    {
     "name": "stdout",
     "output_type": "stream",
     "text": [
      "{'n_estimators': 12}\n"
     ]
    }
   ],
   "source": [
    "grid_cv_bagging = GridSearchCV(estimator=model, \n",
    "                    param_grid=params, \n",
    "                    scoring='precision_macro', \n",
    "                    cv=StratifiedKFold(n_splits=5))\n",
    "\n",
    "grid_cv_bagging.fit(X_train, y_train)\n",
    "\n",
    "print(grid_cv_bagging.best_params_)\n",
    "\n",
    "best_n_estimators = grid_cv_bagging.best_params_['n_estimators']"
   ]
  },
  {
   "cell_type": "code",
   "execution_count": 118,
   "metadata": {},
   "outputs": [
    {
     "data": {
      "image/png": "[encoded data removed]",
      "text/plain": [
       "<Figure size 432x288 with 1 Axes>"
      ]
     },
     "metadata": {
      "needs_background": "light"
     },
     "output_type": "display_data"
    }
   ],
   "source": [
    "plt.plot(params['n_estimators'], grid_cv_bagging.cv_results_['mean_test_score'])\n",
    "plt.xlabel(\"n_estimators\")\n",
    "plt.ylabel('mean_test_score')\n",
    "plt.title(\"Bagging\")\n",
    "plt.grid()"
   ]
  },
  {
   "cell_type": "code",
   "execution_count": 119,
   "metadata": {},
   "outputs": [
    {
     "name": "stdout",
     "output_type": "stream",
     "text": [
      "accuracy = 0.7946127946127947, f1 = 0.7922942743139787\n"
     ]
    }
   ],
   "source": [
    "bagging_best = BaggingClassifier(base_estimator=lr_best, n_estimators = best_n_estimators)\n",
    "bagging_best.fit(X_train, y_train)\n",
    "y_pred = bagging_best.predict(X_test)\n",
    "\n",
    "out_score(y_test, y_pred)"
   ]
  },
  {
   "cell_type": "markdown",
   "metadata": {
    "nbgrader": {
     "grade": false,
     "grade_id": "cell-241b7691ab44cbfb",
     "locked": true,
     "schema_version": 2,
     "solution": false
    }
   },
   "source": [
    "#### 2.7. Random Forest\n",
    "Now we will work with the Random Forest (its `sklearn` implementation).\n",
    "\n",
    "* * Plot `f1` and `accuracy` scores plots w.r.t. the number of trees in Random Forest.\n",
    "\n",
    "* What is the optimal number of trees you've got? Is it different from the optimal number of logistic regressions/decision trees in 2.6? Explain the results briefly."
   ]
  },
  {
   "cell_type": "code",
   "execution_count": 120,
   "metadata": {
    "nbgrader": {
     "grade": true,
     "grade_id": "cell-888755d0f3d91620",
     "locked": false,
     "points": 15,
     "schema_version": 2,
     "solution": true
    }
   },
   "outputs": [],
   "source": [
    "from sklearn.ensemble import RandomForestClassifier\n",
    "\n",
    "# YOUR CODE HERE\n",
    "model = RandomForestClassifier()\n",
    "params = {\n",
    "    'n_estimators': np.arange(2, 100, 5)\n",
    "}"
   ]
  },
  {
   "cell_type": "code",
   "execution_count": 121,
   "metadata": {},
   "outputs": [
    {
     "name": "stdout",
     "output_type": "stream",
     "text": [
      "{'n_estimators': 97}\n"
     ]
    }
   ],
   "source": [
    "grid_cv_rand_forest = GridSearchCV(estimator=model, \n",
    "                    param_grid=params, \n",
    "                    scoring='precision_macro', \n",
    "                    cv=StratifiedKFold(n_splits=5))\n",
    "\n",
    "grid_cv_rand_forest.fit(X_train, y_train)\n",
    "\n",
    "print(grid_cv_rand_forest.best_params_)\n",
    "\n",
    "best_n_estimators_r = grid_cv_rand_forest.best_params_['n_estimators']"
   ]
  },
  {
   "cell_type": "code",
   "execution_count": 122,
   "metadata": {},
   "outputs": [
    {
     "data": {
      "image/png": "[encoded data removed]",
      "text/plain": [
       "<Figure size 432x288 with 1 Axes>"
      ]
     },
     "metadata": {
      "needs_background": "light"
     },
     "output_type": "display_data"
    }
   ],
   "source": [
    "plt.plot(params['n_estimators'], grid_cv_bagging.cv_results_['mean_test_score'])\n",
    "plt.xlabel(\"n_estimators\")\n",
    "plt.ylabel('mean_test_score')\n",
    "plt.title(\"Random forest\")\n",
    "plt.grid()"
   ]
  },
  {
   "cell_type": "code",
   "execution_count": 123,
   "metadata": {},
   "outputs": [
    {
     "name": "stdout",
     "output_type": "stream",
     "text": [
      "accuracy = 0.7575757575757576, f1 = 0.7500857790832935\n"
     ]
    }
   ],
   "source": [
    "forest_best = RandomForestClassifier(n_estimators = best_n_estimators_r)\n",
    "forest_best.fit(X_train, y_train)\n",
    "y_pred = forest_best.predict(X_test)\n",
    "\n",
    "out_score(y_test, y_pred)"
   ]
  },
  {
   "cell_type": "markdown",
   "metadata": {
    "nbgrader": {
     "grade": false,
     "grade_id": "cell-99191c0852538d4d",
     "locked": true,
     "schema_version": 2,
     "solution": false
    }
   },
   "source": [
    "#### 2.8. Learning curve\n",
    "Your goal is to estimate, how does the model behaviour change with the increase of the `train` dataset size.\n",
    "\n",
    "* Split the training data into 10 equal (almost) parts. Then train the models from above (Logistic regression, Desicion Tree, Random Forest) with optimal hyperparameters you have selected on 1 part, 2 parts (combined, so the train size in increased by 2 times), 3 parts and so on.\n",
    "\n",
    "* Build a plot of `accuracy` and `f1` scores on `test` part, varying the `train` dataset size (so the axes will be score - dataset size.\n",
    "\n",
    "* Analyse the final plot. Can you make any conlusions using it? "
   ]
  },
  {
   "cell_type": "code",
   "execution_count": 124,
   "metadata": {},
   "outputs": [],
   "source": [
    "def metrics_calc(X_train_part, X_test_part, y_train_part, y_test_part, model, model_name):\n",
    "    accuracy, f1 = [], []\n",
    "    all_train_part = []\n",
    "    \n",
    "    cv = StratifiedKFold(n_splits=10)\n",
    "    for train_part, test_part in cv.split(X_train_part, y_train_part):\n",
    "        all_train_part.extend(test_part)\n",
    "        \n",
    "        model.fit(X_train_part[all_train_part], y_train_part[all_train_part])\n",
    "        y_pred = model.predict(X_test_part)\n",
    "        \n",
    "        accuracy.append(accuracy_score(y_test_part, y_pred))\n",
    "        f1.append(f1_score(y_test_part, y_pred, average='macro'))\n",
    "    \n",
    "    fig, axs = plt.subplots(1, 2, figsize=(15, 5))\n",
    "    for ax, metric, title in zip(axs, [accuracy, f1], ['accuracy score', 'f1 score']):\n",
    "        ax.plot(np.arange(10)/10, metric,label = model_name)\n",
    "        ax.set_xlabel('Training set size')\n",
    "        ax.set_ylabel('score')\n",
    "        ax.set_title(title)\n",
    "        ax.grid()\n",
    "        ax.legend()\n",
    "    \n",
    "    fig.show()"
   ]
  },
  {
   "cell_type": "code",
   "execution_count": 125,
   "metadata": {},
   "outputs": [
    {
     "data": {
      "image/png": "[encoded data removed]",
      "text/plain": [
       "<Figure size 1080x360 with 2 Axes>"
      ]
     },
     "metadata": {
      "needs_background": "light"
     },
     "output_type": "display_data"
    }
   ],
   "source": [
    "metrics_calc(X_train, X_test, y_train, y_test, lr_best, 'logit')"
   ]
  },
  {
   "cell_type": "code",
   "execution_count": 126,
   "metadata": {},
   "outputs": [
    {
     "data": {
      "image/png": "[encoded data removed]",
      "text/plain": [
       "<Figure size 1080x360 with 2 Axes>"
      ]
     },
     "metadata": {
      "needs_background": "light"
     },
     "output_type": "display_data"
    }
   ],
   "source": [
    "metrics_calc(X_train, X_test, y_train, y_test, dtree_best, 'decision tree')"
   ]
  },
  {
   "cell_type": "code",
   "execution_count": 127,
   "metadata": {},
   "outputs": [
    {
     "data": {
      "image/png": "[encoded data removed]",
      "text/plain": [
       "<Figure size 1080x360 with 2 Axes>"
      ]
     },
     "metadata": {
      "needs_background": "light"
     },
     "output_type": "display_data"
    }
   ],
   "source": [
    "metrics_calc(X_train, X_test, y_train, y_test, forest_best, 'rand forest')"
   ]
  },
  {
   "cell_type": "code",
   "execution_count": null,
   "metadata": {},
   "outputs": [],
   "source": []
  }
 ],
 "metadata": {
  "celltoolbar": "Create Assignment",
  "kernelspec": {
   "display_name": "Python 3",
   "language": "python",
   "name": "python3"
  },
  "language_info": {
   "codemirror_mode": {
    "name": "ipython",
    "version": 3
   },
   "file_extension": ".py",
   "mimetype": "text/x-python",
   "name": "python",
   "nbconvert_exporter": "python",
   "pygments_lexer": "ipython3",
   "version": "3.7.6"
  },
  "toc": {
   "base_numbering": 1,
   "nav_menu": {},
   "number_sections": false,
   "sideBar": true,
   "skip_h1_title": false,
   "title_cell": "Table of Contents",
   "title_sidebar": "Contents",
   "toc_cell": false,
   "toc_position": {},
   "toc_section_display": true,
   "toc_window_display": false
  }
 },
 "nbformat": 4,
 "nbformat_minor": 4
}
